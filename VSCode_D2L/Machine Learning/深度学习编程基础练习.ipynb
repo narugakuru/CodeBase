{
 "cells": [
  {
   "cell_type": "markdown",
   "metadata": {},
   "source": [
    "# 编程环境配置"
   ]
  },
  {
   "cell_type": "code",
   "execution_count": 7,
   "metadata": {},
   "outputs": [],
   "source": [
    "#官网下载并安装Anaconda\n",
    "#https://www.anaconda.com/download"
   ]
  },
  {
   "cell_type": "code",
   "execution_count": 8,
   "metadata": {},
   "outputs": [],
   "source": [
    "#安装tensorflow或pytorch\n",
    "#以管理员身份运行jupyter notebook (!命令)或 管理员身份运行终端/sudo pip install进行包的安装\n",
    "#注意：使用国内的镜像安装源"
   ]
  },
  {
   "cell_type": "code",
   "execution_count": 1,
   "metadata": {},
   "outputs": [
    {
     "name": "stdout",
     "output_type": "stream",
     "text": [
      "Looking in indexes: https://pypi.tuna.tsinghua.edu.cn/simple\n",
      "Requirement already satisfied: pip in c:\\programdata\\anaconda3\\lib\\site-packages (22.3.1)\n",
      "Collecting pip\n",
      "  Using cached https://pypi.tuna.tsinghua.edu.cn/packages/47/6a/453160888fab7c6a432a6e25f8afe6256d0d9f2cbd25971021da6491d899/pip-23.3.1-py3-none-any.whl (2.1 MB)\n",
      "Installing collected packages: pip\n",
      "  Attempting uninstall: pip\n",
      "    Found existing installation: pip 22.3.1\n",
      "    Uninstalling pip-22.3.1:\n",
      "      Successfully uninstalled pip-22.3.1\n",
      "Successfully installed pip-23.3.1\n"
     ]
    },
    {
     "name": "stderr",
     "output_type": "stream",
     "text": [
      "WARNING: Ignoring invalid distribution -dm (c:\\programdata\\anaconda3\\lib\\site-packages)\n",
      "WARNING: Ignoring invalid distribution -ygments (c:\\programdata\\anaconda3\\lib\\site-packages)\n",
      "WARNING: Ignoring invalid distribution -qdm (c:\\programdata\\anaconda3\\lib\\site-packages)\n",
      "WARNING: Ignoring invalid distribution -ip (c:\\programdata\\anaconda3\\lib\\site-packages)\n",
      "WARNING: Ignoring invalid distribution - (c:\\programdata\\anaconda3\\lib\\site-packages)\n",
      "WARNING: Ignoring invalid distribution -equests (c:\\programdata\\anaconda3\\lib\\site-packages)\n",
      "WARNING: Ignoring invalid distribution -dm (c:\\programdata\\anaconda3\\lib\\site-packages)\n",
      "WARNING: Ignoring invalid distribution -ygments (c:\\programdata\\anaconda3\\lib\\site-packages)\n",
      "WARNING: Ignoring invalid distribution -qdm (c:\\programdata\\anaconda3\\lib\\site-packages)\n",
      "WARNING: Ignoring invalid distribution -ip (c:\\programdata\\anaconda3\\lib\\site-packages)\n",
      "WARNING: Ignoring invalid distribution - (c:\\programdata\\anaconda3\\lib\\site-packages)\n",
      "WARNING: Ignoring invalid distribution -equests (c:\\programdata\\anaconda3\\lib\\site-packages)\n",
      "    WARNING: Ignoring invalid distribution -dm (c:\\programdata\\anaconda3\\lib\\site-packages)\n",
      "    WARNING: Ignoring invalid distribution -ygments (c:\\programdata\\anaconda3\\lib\\site-packages)\n",
      "    WARNING: Ignoring invalid distribution -qdm (c:\\programdata\\anaconda3\\lib\\site-packages)\n",
      "    WARNING: Ignoring invalid distribution -ip (c:\\programdata\\anaconda3\\lib\\site-packages)\n",
      "    WARNING: Ignoring invalid distribution - (c:\\programdata\\anaconda3\\lib\\site-packages)\n",
      "    WARNING: Ignoring invalid distribution -equests (c:\\programdata\\anaconda3\\lib\\site-packages)\n",
      "WARNING: Ignoring invalid distribution -dm (c:\\programdata\\anaconda3\\lib\\site-packages)\n",
      "WARNING: Ignoring invalid distribution -ygments (c:\\programdata\\anaconda3\\lib\\site-packages)\n",
      "WARNING: Ignoring invalid distribution -qdm (c:\\programdata\\anaconda3\\lib\\site-packages)\n",
      "WARNING: Ignoring invalid distribution -ip (c:\\programdata\\anaconda3\\lib\\site-packages)\n",
      "WARNING: Ignoring invalid distribution - (c:\\programdata\\anaconda3\\lib\\site-packages)\n",
      "WARNING: Ignoring invalid distribution -equests (c:\\programdata\\anaconda3\\lib\\site-packages)\n",
      "WARNING: Ignoring invalid distribution -dm (c:\\programdata\\anaconda3\\lib\\site-packages)\n",
      "WARNING: Ignoring invalid distribution -ygments (c:\\programdata\\anaconda3\\lib\\site-packages)\n",
      "WARNING: Ignoring invalid distribution -qdm (c:\\programdata\\anaconda3\\lib\\site-packages)\n",
      "WARNING: Ignoring invalid distribution -ip (c:\\programdata\\anaconda3\\lib\\site-packages)\n",
      "WARNING: Ignoring invalid distribution - (c:\\programdata\\anaconda3\\lib\\site-packages)\n",
      "WARNING: Ignoring invalid distribution -equests (c:\\programdata\\anaconda3\\lib\\site-packages)\n",
      "WARNING: Ignoring invalid distribution -dm (c:\\programdata\\anaconda3\\lib\\site-packages)\n",
      "WARNING: Ignoring invalid distribution -ygments (c:\\programdata\\anaconda3\\lib\\site-packages)\n",
      "WARNING: Ignoring invalid distribution -qdm (c:\\programdata\\anaconda3\\lib\\site-packages)\n",
      "WARNING: Ignoring invalid distribution -ip (c:\\programdata\\anaconda3\\lib\\site-packages)\n",
      "WARNING: Ignoring invalid distribution - (c:\\programdata\\anaconda3\\lib\\site-packages)\n",
      "WARNING: Ignoring invalid distribution -equests (c:\\programdata\\anaconda3\\lib\\site-packages)\n"
     ]
    }
   ],
   "source": [
    "#更新pip\n",
    "!python -m pip install --upgrade pip -i https://pypi.tuna.tsinghua.edu.cn/simple"
   ]
  },
  {
   "cell_type": "code",
   "execution_count": 2,
   "metadata": {},
   "outputs": [
    {
     "name": "stdout",
     "output_type": "stream",
     "text": [
      "Looking in indexes: https://pypi.tuna.tsinghua.edu.cn/simple\n",
      "Requirement already satisfied: tensorflow in c:\\programdata\\anaconda3\\lib\\site-packages (2.1.0)\n",
      "Requirement already satisfied: absl-py>=0.7.0 in c:\\users\\mosesli\\appdata\\roaming\\python\\python37\\site-packages (from tensorflow) (1.0.0)\n",
      "Requirement already satisfied: astor>=0.6.0 in c:\\programdata\\anaconda3\\lib\\site-packages (from tensorflow) (0.8.0)\n",
      "Collecting gast==0.2.2 (from tensorflow)\n",
      "  Using cached gast-0.2.2-py3-none-any.whl\n",
      "Requirement already satisfied: google-pasta>=0.1.6 in c:\\users\\mosesli\\appdata\\roaming\\python\\python37\\site-packages (from tensorflow) (0.2.0)\n",
      "Requirement already satisfied: keras-applications>=1.0.8 in c:\\programdata\\anaconda3\\lib\\site-packages (from tensorflow) (1.0.8)\n",
      "Requirement already satisfied: keras-preprocessing>=1.1.0 in c:\\users\\mosesli\\appdata\\roaming\\python\\python37\\site-packages (from tensorflow) (1.1.2)\n",
      "Collecting numpy<2.0,>=1.16.0 (from tensorflow)\n",
      "  Downloading https://pypi.tuna.tsinghua.edu.cn/packages/97/9f/da37cc4a188a1d5d203d65ab28d6504e17594b5342e0c1dc5610ee6f4535/numpy-1.21.6-cp37-cp37m-win_amd64.whl (14.0 MB)\n",
      "     --------------------------------------- 14.0/14.0 MB 32.8 MB/s eta 0:00:00\n",
      "Requirement already satisfied: opt-einsum>=2.3.2 in c:\\users\\mosesli\\appdata\\roaming\\python\\python37\\site-packages (from tensorflow) (3.3.0)\n",
      "Requirement already satisfied: protobuf>=3.8.0 in c:\\programdata\\anaconda3\\lib\\site-packages (from tensorflow) (3.10.0)\n",
      "Requirement already satisfied: tensorboard<2.2.0,>=2.1.0 in c:\\programdata\\anaconda3\\lib\\site-packages (from tensorflow) (2.1.1)\n",
      "Requirement already satisfied: tensorflow-estimator<2.2.0,>=2.1.0rc0 in c:\\programdata\\anaconda3\\lib\\site-packages (from tensorflow) (2.1.0)\n",
      "Requirement already satisfied: termcolor>=1.1.0 in c:\\users\\mosesli\\appdata\\roaming\\python\\python37\\site-packages (from tensorflow) (1.1.0)\n",
      "Requirement already satisfied: wrapt>=1.11.1 in c:\\users\\mosesli\\appdata\\roaming\\python\\python37\\site-packages (from tensorflow) (1.14.1)\n",
      "Requirement already satisfied: six>=1.12.0 in c:\\users\\mosesli\\appdata\\roaming\\python\\python37\\site-packages (from tensorflow) (1.16.0)\n",
      "Requirement already satisfied: grpcio>=1.8.6 in c:\\users\\mosesli\\appdata\\roaming\\python\\python37\\site-packages (from tensorflow) (1.46.0)\n",
      "Requirement already satisfied: wheel>=0.26 in c:\\users\\mosesli\\appdata\\roaming\\python\\python37\\site-packages (from tensorflow) (0.37.1)\n",
      "Requirement already satisfied: scipy==1.4.1 in c:\\programdata\\anaconda3\\lib\\site-packages (from tensorflow) (1.4.1)\n",
      "Requirement already satisfied: h5py in c:\\users\\mosesli\\appdata\\roaming\\python\\python37\\site-packages (from keras-applications>=1.0.8->tensorflow) (3.6.0)\n",
      "Requirement already satisfied: setuptools in c:\\users\\mosesli\\appdata\\roaming\\python\\python37\\site-packages (from protobuf>=3.8.0->tensorflow) (62.1.0)\n",
      "Collecting google-auth<2,>=1.6.3 (from tensorboard<2.2.0,>=2.1.0->tensorflow)\n",
      "  Downloading https://pypi.tuna.tsinghua.edu.cn/packages/fb/7a/1b3eb54caee1b8c73c2c3645f78a382eca4805a301a30c64a078e736e446/google_auth-1.35.0-py2.py3-none-any.whl (152 kB)\n",
      "     -------------------------------------- 152.9/152.9 kB 9.5 MB/s eta 0:00:00\n",
      "Requirement already satisfied: google-auth-oauthlib<0.5,>=0.4.1 in c:\\users\\mosesli\\appdata\\roaming\\python\\python37\\site-packages (from tensorboard<2.2.0,>=2.1.0->tensorflow) (0.4.6)\n",
      "Requirement already satisfied: markdown>=2.6.8 in c:\\users\\mosesli\\appdata\\roaming\\python\\python37\\site-packages (from tensorboard<2.2.0,>=2.1.0->tensorflow) (3.3.7)\n",
      "Collecting requests<3,>=2.21.0 (from tensorboard<2.2.0,>=2.1.0->tensorflow)\n",
      "  Downloading https://pypi.tuna.tsinghua.edu.cn/packages/70/8e/0e2d847013cb52cd35b38c009bb167a1a26b2ce6cd6965bf26b47bc0bf44/requests-2.31.0-py3-none-any.whl (62 kB)\n",
      "     ---------------------------------------- 62.6/62.6 kB 3.5 MB/s eta 0:00:00\n",
      "Requirement already satisfied: werkzeug>=0.11.15 in c:\\users\\mosesli\\appdata\\roaming\\python\\python37\\site-packages (from tensorboard<2.2.0,>=2.1.0->tensorflow) (2.1.2)\n",
      "Collecting cachetools<5.0,>=2.0.0 (from google-auth<2,>=1.6.3->tensorboard<2.2.0,>=2.1.0->tensorflow)\n",
      "  Downloading https://pypi.tuna.tsinghua.edu.cn/packages/ea/c1/4740af52db75e6dbdd57fc7e9478439815bbac549c1c05881be27d19a17d/cachetools-4.2.4-py3-none-any.whl (10 kB)\n",
      "Requirement already satisfied: pyasn1-modules>=0.2.1 in c:\\users\\mosesli\\appdata\\roaming\\python\\python37\\site-packages (from google-auth<2,>=1.6.3->tensorboard<2.2.0,>=2.1.0->tensorflow) (0.2.8)\n",
      "Requirement already satisfied: rsa<5,>=3.1.4 in c:\\users\\mosesli\\appdata\\roaming\\python\\python37\\site-packages (from google-auth<2,>=1.6.3->tensorboard<2.2.0,>=2.1.0->tensorflow) (4.8)\n",
      "Requirement already satisfied: requests-oauthlib>=0.7.0 in c:\\users\\mosesli\\appdata\\roaming\\python\\python37\\site-packages (from google-auth-oauthlib<0.5,>=0.4.1->tensorboard<2.2.0,>=2.1.0->tensorflow) (1.3.1)\n",
      "Requirement already satisfied: importlib-metadata>=4.4 in c:\\users\\mosesli\\appdata\\roaming\\python\\python37\\site-packages (from markdown>=2.6.8->tensorboard<2.2.0,>=2.1.0->tensorflow) (4.11.3)\n",
      "Requirement already satisfied: charset-normalizer<4,>=2 in c:\\users\\mosesli\\appdata\\roaming\\python\\python37\\site-packages (from requests<3,>=2.21.0->tensorboard<2.2.0,>=2.1.0->tensorflow) (2.0.12)\n",
      "Requirement already satisfied: idna<4,>=2.5 in c:\\programdata\\anaconda3\\lib\\site-packages (from requests<3,>=2.21.0->tensorboard<2.2.0,>=2.1.0->tensorflow) (2.6)\n",
      "Requirement already satisfied: urllib3<3,>=1.21.1 in c:\\programdata\\anaconda3\\lib\\site-packages (from requests<3,>=2.21.0->tensorboard<2.2.0,>=2.1.0->tensorflow) (1.22)\n",
      "Requirement already satisfied: certifi>=2017.4.17 in c:\\users\\mosesli\\appdata\\roaming\\python\\python37\\site-packages (from requests<3,>=2.21.0->tensorboard<2.2.0,>=2.1.0->tensorflow) (2021.10.8)\n",
      "Requirement already satisfied: cached-property in c:\\users\\mosesli\\appdata\\roaming\\python\\python37\\site-packages (from h5py->keras-applications>=1.0.8->tensorflow) (1.5.2)\n",
      "Requirement already satisfied: zipp>=0.5 in c:\\users\\mosesli\\appdata\\roaming\\python\\python37\\site-packages (from importlib-metadata>=4.4->markdown>=2.6.8->tensorboard<2.2.0,>=2.1.0->tensorflow) (3.8.0)\n",
      "Requirement already satisfied: typing-extensions>=3.6.4 in c:\\users\\mosesli\\appdata\\roaming\\python\\python37\\site-packages (from importlib-metadata>=4.4->markdown>=2.6.8->tensorboard<2.2.0,>=2.1.0->tensorflow) (4.2.0)\n",
      "Requirement already satisfied: pyasn1<0.5.0,>=0.4.6 in c:\\users\\mosesli\\appdata\\roaming\\python\\python37\\site-packages (from pyasn1-modules>=0.2.1->google-auth<2,>=1.6.3->tensorboard<2.2.0,>=2.1.0->tensorflow) (0.4.8)\n",
      "Requirement already satisfied: oauthlib>=3.0.0 in c:\\users\\mosesli\\appdata\\roaming\\python\\python37\\site-packages (from requests-oauthlib>=0.7.0->google-auth-oauthlib<0.5,>=0.4.1->tensorboard<2.2.0,>=2.1.0->tensorflow) (3.2.0)\n",
      "Installing collected packages: requests, numpy, gast, cachetools, google-auth\n",
      "  Attempting uninstall: requests\n",
      "    Found existing installation: requests 2.18.4\n",
      "    Uninstalling requests-2.18.4:\n",
      "      Successfully uninstalled requests-2.18.4\n",
      "  Attempting uninstall: numpy\n",
      "    Found existing installation: numpy 1.14.6\n",
      "    Uninstalling numpy-1.14.6:\n",
      "      Successfully uninstalled numpy-1.14.6\n",
      "  Attempting uninstall: gast\n",
      "    Found existing installation: gast 0.5.3\n",
      "    Uninstalling gast-0.5.3:\n",
      "      Successfully uninstalled gast-0.5.3\n",
      "  Attempting uninstall: cachetools\n",
      "    Found existing installation: cachetools 5.0.0\n",
      "    Uninstalling cachetools-5.0.0:\n",
      "      Successfully uninstalled cachetools-5.0.0\n",
      "  Attempting uninstall: google-auth\n",
      "    Found existing installation: google-auth 2.6.6\n",
      "    Uninstalling google-auth-2.6.6:\n",
      "      Successfully uninstalled google-auth-2.6.6\n",
      "Successfully installed cachetools-4.1.0 gast-0.2.2 google-auth-1.13.1 numpy-1.16.6 requests-2.31.0\n"
     ]
    },
    {
     "name": "stderr",
     "output_type": "stream",
     "text": [
      "WARNING: Ignoring invalid distribution - (c:\\programdata\\anaconda3\\lib\\site-packages)\n",
      "WARNING: Ignoring invalid distribution -equests (c:\\programdata\\anaconda3\\lib\\site-packages)\n",
      "WARNING: Ignoring invalid distribution -ip (c:\\programdata\\anaconda3\\lib\\site-packages)\n",
      "WARNING: Ignoring invalid distribution -qdm (c:\\programdata\\anaconda3\\lib\\site-packages)\n",
      "WARNING: Ignoring invalid distribution -ygments (c:\\programdata\\anaconda3\\lib\\site-packages)\n",
      "WARNING: Ignoring invalid distribution -dm (c:\\programdata\\anaconda3\\lib\\site-packages)\n",
      "WARNING: Ignoring invalid distribution - (c:\\programdata\\anaconda3\\lib\\site-packages)\n",
      "WARNING: Ignoring invalid distribution -equests (c:\\programdata\\anaconda3\\lib\\site-packages)\n",
      "WARNING: Ignoring invalid distribution -ip (c:\\programdata\\anaconda3\\lib\\site-packages)\n",
      "WARNING: Ignoring invalid distribution -qdm (c:\\programdata\\anaconda3\\lib\\site-packages)\n",
      "WARNING: Ignoring invalid distribution -ygments (c:\\programdata\\anaconda3\\lib\\site-packages)\n",
      "WARNING: Ignoring invalid distribution -dm (c:\\programdata\\anaconda3\\lib\\site-packages)\n",
      "DEPRECATION: pytorch-lightning 1.7.7 has a non-standard dependency specifier torch>=1.9.*. pip 24.0 will enforce this behaviour change. A possible replacement is to upgrade to a newer version of pytorch-lightning or contact the author to suggest that they release a version with a conforming dependency specifiers. Discussion can be found at https://github.com/pypa/pip/issues/12063\n",
      "ERROR: pip's dependency resolver does not currently take into account all the packages that are installed. This behaviour is the source of the following dependency conflicts.\n",
      "conda 4.10.3 requires ruamel_yaml_conda>=0.11.14, which is not installed.\n",
      "spyder 3.3.6 requires pyqt5<5.13; python_version >= \"3\", which is not installed.\n",
      "spyder 3.3.6 requires pyqtwebengine<5.13; python_version >= \"3\", which is not installed.\n",
      "tensorflow-gpu 2.8.0 requires tensorboard<2.9,>=2.8, but you have tensorboard 2.1.1 which is incompatible.\n",
      "torchdata 0.5.0 requires urllib3>=1.25, but you have urllib3 1.22 which is incompatible.\n",
      "bert-embedding 1.0.1 requires numpy==1.14.6, but you have numpy 1.21.6 which is incompatible.\n",
      "mxnet 1.4.0 requires numpy<1.15.0,>=1.8.2, but you have numpy 1.21.6 which is incompatible.\n",
      "mxnet 1.4.0 requires requests<2.19.0,>=2.18.4, but you have requests 2.31.0 which is incompatible.\n",
      "mxnet-cu92 1.5.0 requires numpy<1.17.0,>=1.8.2, but you have numpy 1.21.6 which is incompatible.\n",
      "mxnet-cu92 1.5.0 requires requests<2.19.0,>=2.18.4, but you have requests 2.31.0 which is incompatible.\n",
      "pytorch-lightning 1.7.7 requires PyYAML>=5.4, but you have pyyaml 5.1.1 which is incompatible.\n",
      "pytorch-lightning 1.7.7 requires tensorboard>=2.9.1, but you have tensorboard 2.1.1 which is incompatible.\n",
      "responses 0.18.0 requires urllib3>=1.25.10, but you have urllib3 1.22 which is incompatible.\n"
     ]
    }
   ],
   "source": [
    "#tensorflow安装,gpu版本安装需先安装cuda,cudnn，参考https://zhuanlan.zhihu.com/p/574277543\n",
    "#https://www.tensorflow.org/install?hl=zh-cn\n",
    "!pip install tensorflow -i https://pypi.tuna.tsinghua.edu.cn/simple"
   ]
  },
  {
   "cell_type": "code",
   "execution_count": 3,
   "metadata": {},
   "outputs": [
    {
     "name": "stdout",
     "output_type": "stream",
     "text": [
      "Looking in indexes: https://pypi.tuna.tsinghua.edu.cn/simple\n",
      "Requirement already satisfied: torch in c:\\programdata\\anaconda3\\lib\\site-packages (1.13.0+cu116)\n",
      "Requirement already satisfied: torchvision in c:\\programdata\\anaconda3\\lib\\site-packages (0.14.0+cu116)\n",
      "Requirement already satisfied: torchaudio in c:\\programdata\\anaconda3\\lib\\site-packages (0.13.0+cu116)\n",
      "Requirement already satisfied: typing-extensions in c:\\users\\mosesli\\appdata\\roaming\\python\\python37\\site-packages (from torch) (4.2.0)\n",
      "Requirement already satisfied: numpy in c:\\programdata\\anaconda3\\lib\\site-packages (from torchvision) (1.16.6)\n",
      "Requirement already satisfied: requests in c:\\programdata\\anaconda3\\lib\\site-packages (from torchvision) (2.31.0)\n",
      "Requirement already satisfied: pillow!=8.3.*,>=5.3.0 in c:\\programdata\\anaconda3\\lib\\site-packages (from torchvision) (6.1.0)\n",
      "Requirement already satisfied: charset-normalizer<4,>=2 in c:\\users\\mosesli\\appdata\\roaming\\python\\python37\\site-packages (from requests->torchvision) (2.0.12)\n",
      "Requirement already satisfied: idna<4,>=2.5 in c:\\programdata\\anaconda3\\lib\\site-packages (from requests->torchvision) (2.6)\n",
      "Requirement already satisfied: urllib3<3,>=1.21.1 in c:\\programdata\\anaconda3\\lib\\site-packages (from requests->torchvision) (1.22)\n",
      "Requirement already satisfied: certifi>=2017.4.17 in c:\\users\\mosesli\\appdata\\roaming\\python\\python37\\site-packages (from requests->torchvision) (2021.10.8)\n"
     ]
    },
    {
     "name": "stderr",
     "output_type": "stream",
     "text": [
      "WARNING: Ignoring invalid distribution - (c:\\programdata\\anaconda3\\lib\\site-packages)\n",
      "WARNING: Ignoring invalid distribution -equests (c:\\programdata\\anaconda3\\lib\\site-packages)\n",
      "WARNING: Ignoring invalid distribution -ip (c:\\programdata\\anaconda3\\lib\\site-packages)\n",
      "WARNING: Ignoring invalid distribution -qdm (c:\\programdata\\anaconda3\\lib\\site-packages)\n",
      "WARNING: Ignoring invalid distribution -ygments (c:\\programdata\\anaconda3\\lib\\site-packages)\n",
      "WARNING: Ignoring invalid distribution -dm (c:\\programdata\\anaconda3\\lib\\site-packages)\n",
      "WARNING: Ignoring invalid distribution - (c:\\programdata\\anaconda3\\lib\\site-packages)\n",
      "WARNING: Ignoring invalid distribution -equests (c:\\programdata\\anaconda3\\lib\\site-packages)\n",
      "WARNING: Ignoring invalid distribution -ip (c:\\programdata\\anaconda3\\lib\\site-packages)\n",
      "WARNING: Ignoring invalid distribution -qdm (c:\\programdata\\anaconda3\\lib\\site-packages)\n",
      "WARNING: Ignoring invalid distribution -ygments (c:\\programdata\\anaconda3\\lib\\site-packages)\n",
      "WARNING: Ignoring invalid distribution -dm (c:\\programdata\\anaconda3\\lib\\site-packages)\n",
      "DEPRECATION: pytorch-lightning 1.7.7 has a non-standard dependency specifier torch>=1.9.*. pip 24.0 will enforce this behaviour change. A possible replacement is to upgrade to a newer version of pytorch-lightning or contact the author to suggest that they release a version with a conforming dependency specifiers. Discussion can be found at https://github.com/pypa/pip/issues/12063\n"
     ]
    }
   ],
   "source": [
    "#pytorch安装\n",
    "#https://pytorch.org/get-started/locally/\n",
    "!pip install torch torchvision torchaudio -i https://pypi.tuna.tsinghua.edu.cn/simple"
   ]
  },
  {
   "cell_type": "code",
   "execution_count": 4,
   "metadata": {},
   "outputs": [
    {
     "name": "stdout",
     "output_type": "stream",
     "text": [
      "Package                            Version\n",
      "---------------------------------- -------------------\n",
      "absl-py                            1.0.0\n",
      "aiohttp                            3.8.1\n",
      "aiosignal                          1.2.0\n",
      "alabaster                          0.7.12\n",
      "anaconda-client                    1.7.2\n",
      "anaconda-navigator                 1.9.7\n",
      "anaconda-project                   0.8.3\n",
      "appdirs                            1.4.4\n",
      "arviz                              0.7.0\n",
      "asn1crypto                         0.24.0\n",
      "astor                              0.8.0\n",
      "astroid                            2.2.5\n",
      "astropy                            3.2.1\n",
      "astunparse                         1.6.3\n",
      "async-timeout                      4.0.2\n",
      "asynctest                          0.13.0\n",
      "atomicwrites                       1.3.0\n",
      "attrs                              19.1.0\n",
      "Automat                            20.2.0\n",
      "Babel                              2.7.0\n",
      "backcall                           0.1.0\n",
      "backports.functools-lru-cache      1.6.4\n",
      "backports.os                       0.1.1\n",
      "backports.shutil-get-terminal-size 1.0.0\n",
      "backports.tempfile                 1.0\n",
      "backports.weakref                  1.0.post1\n",
      "bcrypt                             3.2.0\n",
      "beautifulsoup4                     4.7.1\n",
      "bert-embedding                     1.0.1\n",
      "bitarray                           0.9.3\n",
      "bkcharts                           0.2\n",
      "blaze                              0.11.3\n",
      "bleach                             3.1.0\n",
      "blis                               0.4.1\n",
      "bokeh                              1.2.0\n",
      "boto                               2.49.0\n",
      "Bottleneck                         1.2.1\n",
      "cached-property                    1.5.2\n",
      "cachetools                         4.1.0\n",
      "certifi                            2021.10.8\n",
      "cffi                               1.12.3\n",
      "cftime                             1.1.1.1\n",
      "chardet                            3.0.4\n",
      "charset-normalizer                 2.0.12\n",
      "Click                              7.0\n",
      "cloudpickle                        1.2.1\n",
      "clyent                             1.2.2\n",
      "colorama                           0.4.1\n",
      "commonmark                         0.9.1\n",
      "comtypes                           1.1.7\n",
      "conda                              4.10.3\n",
      "conda-build                        3.18.8\n",
      "conda-package-handling             1.3.11\n",
      "conda-verify                       3.4.2\n",
      "constantly                         15.1.0\n",
      "contextlib2                        0.5.5\n",
      "cryptography                       2.7\n",
      "cycler                             0.10.0\n",
      "cymem                              2.0.2\n",
      "Cython                             0.29.12\n",
      "cytoolz                            0.10.0\n",
      "dask                               2.1.0\n",
      "datasets                           2.2.2\n",
      "datashape                          0.5.4\n",
      "decorator                          4.4.0\n",
      "defusedxml                         0.6.0\n",
      "dill                               0.3.4\n",
      "distributed                        2.1.0\n",
      "docutils                           0.14\n",
      "en-core-web-sm                     2.2.0\n",
      "entrypoints                        0.3\n",
      "et-xmlfile                         1.0.1\n",
      "fastcache                          1.1.0\n",
      "filelock                           3.0.12\n",
      "Flask                              1.1.1\n",
      "Flask-Cors                         3.0.10\n",
      "flatbuffers                        2.0\n",
      "frozenlist                         1.3.0\n",
      "fsspec                             2022.5.0\n",
      "future                             0.18.2\n",
      "gast                               0.2.2\n",
      "gevent                             1.4.0\n",
      "glob2                              0.7\n",
      "gluonnlp                           0.6.0\n",
      "google-auth                        1.13.1\n",
      "google-auth-oauthlib               0.4.6\n",
      "google-pasta                       0.2.0\n",
      "graphviz                           0.8.4\n",
      "greenlet                           0.4.15\n",
      "grpcio                             1.46.0\n",
      "h5py                               3.6.0\n",
      "heapdict                           1.0.0\n",
      "html5lib                           1.0.1\n",
      "huggingface-hub                    0.5.1\n",
      "hyperlink                          21.0.0\n",
      "idna                               2.6\n",
      "imageio                            2.5.0\n",
      "imagesize                          1.1.0\n",
      "importlib-metadata                 4.11.3\n",
      "incremental                        21.3.0\n",
      "ipdb                               0.13.2\n",
      "ipykernel                          5.1.1\n",
      "ipython                            7.6.1\n",
      "ipython_genutils                   0.2.0\n",
      "ipywidgets                         7.5.0\n",
      "isort                              4.3.21\n",
      "itsdangerous                       1.1.0\n",
      "jdcal                              1.4.1\n",
      "jedi                               0.13.3\n",
      "Jinja2                             2.10.1\n",
      "joblib                             0.13.2\n",
      "json5                              0.8.4\n",
      "jsonschema                         3.0.1\n",
      "jupyter                            1.0.0\n",
      "jupyter-client                     5.3.1\n",
      "jupyter-console                    6.0.0\n",
      "jupyter-core                       4.5.0\n",
      "jupyterlab                         1.0.2\n",
      "jupyterlab-launcher                0.13.1\n",
      "jupyterlab-server                  1.0.0\n",
      "keras                              2.8.0\n",
      "Keras-Applications                 1.0.8\n",
      "Keras-Preprocessing                1.1.2\n",
      "keyring                            18.0.0\n",
      "kiwisolver                         1.1.0\n",
      "lazy-object-proxy                  1.4.1\n",
      "libarchive-c                       2.8\n",
      "libclang                           14.0.1\n",
      "llvmlite                           0.29.0\n",
      "locket                             0.2.0\n",
      "lxml                               4.3.4\n",
      "Markdown                           3.3.7\n",
      "MarkupSafe                         1.1.1\n",
      "matplotlib                         3.1.0\n",
      "mccabe                             0.6.1\n",
      "menuinst                           1.4.16\n",
      "mistune                            0.8.4\n",
      "mkl-fft                            1.0.12\n",
      "mkl-random                         1.0.2\n",
      "mkl-service                        2.0.2\n",
      "mock                               3.0.5\n",
      "more-itertools                     7.0.0\n",
      "mpmath                             1.1.0\n",
      "msgpack                            0.6.1\n",
      "multidict                          6.0.2\n",
      "multipledispatch                   0.6.0\n",
      "multiprocess                       0.70.12.2\n",
      "murmurhash                         1.0.2\n",
      "mxnet                              1.4.0\n",
      "mxnet-cu92                         1.5.0\n",
      "navigator-updater                  0.2.1\n",
      "nbconvert                          5.5.0\n",
      "nbformat                           4.4.0\n",
      "netCDF4                            1.5.3\n",
      "networkx                           2.3\n",
      "nltk                               3.7\n",
      "nose                               1.3.7\n",
      "notebook                           6.0.0\n",
      "numba                              0.44.1\n",
      "numexpr                            2.6.9\n",
      "numpy                              1.16.6\n",
      "numpydoc                           0.9.1\n",
      "oauthlib                           3.2.0\n",
      "odo                                0.5.1\n",
      "olefile                            0.46\n",
      "openpyxl                           2.6.2\n",
      "opt-einsum                         3.3.0\n",
      "packaging                          21.3\n",
      "pandas                             1.0.3\n",
      "pandocfilters                      1.4.2\n",
      "parso                              0.5.0\n",
      "partd                              1.0.0\n",
      "path.py                            12.0.1\n",
      "pathlib2                           2.3.4\n",
      "patsy                              0.5.1\n",
      "pep8                               1.7.1\n",
      "pickleshare                        0.7.5\n",
      "Pillow                             6.1.0\n",
      "pip                                23.3.1\n",
      "pkginfo                            1.5.0.1\n",
      "plac                               0.9.6\n",
      "pluggy                             0.12.0\n",
      "ply                                3.11\n",
      "portalocker                        2.6.0\n",
      "preshed                            3.0.2\n",
      "prometheus-client                  0.7.1\n",
      "prompt-toolkit                     2.0.9\n",
      "protobuf                           3.10.0\n",
      "psutil                             5.6.3\n",
      "py                                 1.8.0\n",
      "pyarrow                            8.0.0\n",
      "pyasn1                             0.4.8\n",
      "pyasn1-modules                     0.2.8\n",
      "pycodestyle                        2.5.0\n",
      "pycosat                            0.6.3\n",
      "pycparser                          2.19\n",
      "pycrypto                           2.6.1\n",
      "pycurl                             7.43.0.3\n",
      "pyDeprecate                        0.3.2\n",
      "pyflakes                           2.1.1\n",
      "Pygments                           2.10.0\n",
      "PyHamcrest                         2.0.2\n",
      "pylint                             2.3.1\n",
      "pymc3                              3.8\n",
      "pyodbc                             4.0.26\n",
      "pyOpenSSL                          19.0.0\n",
      "pyparsing                          2.4.0\n",
      "pyreadline                         2.1\n",
      "pyrsistent                         0.14.11\n",
      "PySocks                            1.7.0\n",
      "pytest                             5.0.1\n",
      "pytest-arraydiff                   0.3\n",
      "pytest-astropy                     0.5.0\n",
      "pytest-doctestplus                 0.3.0\n",
      "pytest-openfiles                   0.3.2\n",
      "pytest-remotedata                  0.3.1\n",
      "python-dateutil                    2.8.0\n",
      "pytorch-lightning                  1.7.7\n",
      "pytz                               2019.1\n",
      "PyWavelets                         1.0.3\n",
      "pywin32                            305\n",
      "pywinpty                           0.5.5\n",
      "PyYAML                             5.1.1\n",
      "pyzmq                              18.0.0\n",
      "QtAwesome                          0.5.7\n",
      "qtconsole                          4.5.1\n",
      "QtPy                               1.8.0\n",
      "regex                              2022.4.24\n",
      "requests                           2.31.0\n",
      "requests-oauthlib                  1.3.1\n",
      "responses                          0.18.0\n",
      "rich                               10.12.0\n",
      "rope                               0.14.0\n",
      "rsa                                4.8\n",
      "ruamel_yaml                        0.15.46\n",
      "sacremoses                         0.0.53\n",
      "scikit-image                       0.15.0\n",
      "scikit-learn                       0.21.2\n",
      "scipy                              1.4.1\n",
      "seaborn                            0.9.0\n",
      "Send2Trash                         1.5.0\n",
      "sentencepiece                      0.1.94\n",
      "service-identity                   18.1.0\n",
      "setuptools                         62.1.0\n",
      "simplegeneric                      0.8.1\n",
      "singledispatch                     3.4.0.3\n",
      "six                                1.16.0\n",
      "snowballstemmer                    1.9.0\n",
      "some-package                       0.1\n",
      "sortedcollections                  1.1.2\n",
      "sortedcontainers                   2.1.0\n",
      "soupsieve                          1.8\n",
      "spacy                              2.2.1\n",
      "Sphinx                             2.1.2\n",
      "sphinxcontrib-applehelp            1.0.1\n",
      "sphinxcontrib-devhelp              1.0.1\n",
      "sphinxcontrib-htmlhelp             1.0.2\n",
      "sphinxcontrib-jsmath               1.0.1\n",
      "sphinxcontrib-qthelp               1.0.2\n",
      "sphinxcontrib-serializinghtml      1.1.3\n",
      "sphinxcontrib-websupport           1.1.2\n",
      "spyder                             3.3.6\n",
      "spyder-kernels                     0.5.1\n",
      "SQLAlchemy                         1.3.5\n",
      "srsly                              0.1.0\n",
      "statsmodels                        0.10.0\n",
      "sympy                              1.4\n",
      "tables                             3.5.2\n",
      "tblib                              1.4.0\n",
      "tensorboard                        2.1.1\n",
      "tensorboard-data-server            0.6.1\n",
      "tensorboard-plugin-wit             1.8.1\n",
      "tensorboardX                       1.9\n",
      "tensorflow                         2.1.0\n",
      "tensorflow-estimator               2.1.0\n",
      "tensorflow-gpu                     2.8.0\n",
      "tensorflow-io-gcs-filesystem       0.25.0\n",
      "termcolor                          1.1.0\n",
      "terminado                          0.8.2\n",
      "testpath                           0.4.2\n",
      "tf-estimator-nightly               2.8.0.dev2021122109\n",
      "Theano                             1.0.4\n",
      "thinc                              7.1.1\n",
      "tokenizers                         0.12.1\n",
      "toolz                              0.10.0\n",
      "torch                              1.13.0+cu116\n",
      "torchaudio                         0.13.0+cu116\n",
      "torchdata                          0.5.0\n",
      "torchmetrics                       0.10.1\n",
      "torchtext                          0.14.0\n",
      "torchvision                        0.14.0+cu116\n",
      "tornado                            6.0.3\n",
      "tqdm                               4.64.0\n",
      "traitlets                          4.3.2\n",
      "transformers                       4.18.0\n",
      "Twisted                            21.2.0\n",
      "twisted-iocpsupport                1.0.1\n",
      "typing                             3.6.6\n",
      "typing_extensions                  4.2.0\n",
      "unicodecsv                         0.14.1\n",
      "urllib3                            1.22\n",
      "wasabi                             0.2.2\n",
      "wcwidth                            0.1.7\n",
      "webencodings                       0.5.1\n",
      "Werkzeug                           2.1.2\n",
      "wheel                              0.37.1\n",
      "widgetsnbextension                 3.5.0\n",
      "win-inet-pton                      1.1.0\n",
      "win-unicode-console                0.5\n",
      "wincertstore                       0.2\n",
      "wrapt                              1.14.1\n",
      "xarray                             0.15.1\n",
      "xlrd                               1.2.0\n",
      "XlsxWriter                         1.1.8\n",
      "xlwings                            0.15.8\n",
      "xlwt                               1.3.0\n",
      "xxhash                             3.0.0\n",
      "yarl                               1.7.2\n",
      "zict                               1.0.0\n",
      "zipp                               3.8.0\n",
      "zope.interface                     5.4.0\n"
     ]
    },
    {
     "name": "stderr",
     "output_type": "stream",
     "text": [
      "WARNING: Ignoring invalid distribution - (c:\\programdata\\anaconda3\\lib\\site-packages)\n",
      "WARNING: Ignoring invalid distribution -equests (c:\\programdata\\anaconda3\\lib\\site-packages)\n",
      "WARNING: Ignoring invalid distribution -ip (c:\\programdata\\anaconda3\\lib\\site-packages)\n",
      "WARNING: Ignoring invalid distribution -qdm (c:\\programdata\\anaconda3\\lib\\site-packages)\n",
      "WARNING: Ignoring invalid distribution -ygments (c:\\programdata\\anaconda3\\lib\\site-packages)\n",
      "WARNING: Ignoring invalid distribution -dm (c:\\programdata\\anaconda3\\lib\\site-packages)\n"
     ]
    }
   ],
   "source": [
    "#安装校验，查看python包的安装情况。\n",
    "!pip list"
   ]
  },
  {
   "cell_type": "code",
   "execution_count": 5,
   "metadata": {},
   "outputs": [
    {
     "name": "stderr",
     "output_type": "stream",
     "text": [
      "C:\\ProgramData\\Anaconda3\\lib\\site-packages\\numpy\\_distributor_init.py:32: UserWarning: loaded more than 1 DLL from .libs:\n",
      "C:\\ProgramData\\Anaconda3\\lib\\site-packages\\numpy\\.libs\\libopenblas.TXA6YQSD3GCQQC22GEQ54J2UDCXDXHWN.gfortran-win_amd64.dll\n",
      "C:\\ProgramData\\Anaconda3\\lib\\site-packages\\numpy\\.libs\\libopenblas.XWYDX2IKJW2NMTWSFYNGFUWKQU3LYTCZ.gfortran-win_amd64.dll\n",
      "  stacklevel=1)\n"
     ]
    }
   ],
   "source": [
    "#程序中导入tensorflow包\n",
    "import tensorflow as tf"
   ]
  },
  {
   "cell_type": "code",
   "execution_count": 6,
   "metadata": {},
   "outputs": [],
   "source": [
    "#程序中导入pytorch包\n",
    "import torch as t"
   ]
  },
  {
   "cell_type": "markdown",
   "metadata": {},
   "source": [
    "# Python中类、继承和多态"
   ]
  },
  {
   "cell_type": "code",
   "execution_count": 22,
   "metadata": {},
   "outputs": [
    {
     "name": "stdout",
     "output_type": "stream",
     "text": [
      "HELLO, SMITH!\n",
      "Hello, Smith!\n"
     ]
    }
   ],
   "source": [
    "class Greeter(object):\n",
    "    #Constructor\n",
    "    def __init__(self, name):\n",
    "        self.name = name\n",
    "    #Instance function\n",
    "    def greet(self, loud = False):\n",
    "        if loud:\n",
    "            print('HELLO, {}!'.format(self.name.upper()))\n",
    "        else:\n",
    "            print('Hello, {}!'.format(self.name))\n",
    "\n",
    "g = Greeter('Smith')\n",
    "g.greet(True)\n",
    "g.greet()"
   ]
  },
  {
   "cell_type": "code",
   "execution_count": 23,
   "metadata": {},
   "outputs": [
    {
     "name": "stdout",
     "output_type": "stream",
     "text": [
      "喵喵 会“喵喵”叫\n"
     ]
    }
   ],
   "source": [
    "#继承\n",
    "class Animal(object):\n",
    "    def __init__(self, name, age):\n",
    "        self.name = name\n",
    "        self.age = age\n",
    "    \n",
    "    def call(self):\n",
    "        print(self.name, '会叫')\n",
    "#Cat类的父类设置为Animal\n",
    "class Cat(Animal):\n",
    "    def __init__(self,name,age,sex):\n",
    "        super(Cat, self).__init__(name,age)  # 初始化父类中相关属性\n",
    "        self.sex=sex\n",
    "    \n",
    "    def call(self):\n",
    "        print(self.name, '会“喵喵”叫')\n",
    "        \n",
    "c = Cat('喵喵', 2, '男') \n",
    "c.call()"
   ]
  },
  {
   "cell_type": "code",
   "execution_count": 24,
   "metadata": {},
   "outputs": [
    {
     "name": "stdout",
     "output_type": "stream",
     "text": [
      "小黑 会叫\n",
      "喵喵 会“喵喵”叫\n",
      "旺财 会“汪汪”叫\n"
     ]
    }
   ],
   "source": [
    "#多态\n",
    "class Dog(Animal):\n",
    "    def __init__(self, name, age, sex):\n",
    "        super(Dog, self).__init__(name, age)\n",
    "        self.sex = sex\n",
    "    \n",
    "    def call(self):\n",
    "        print(self.name, '会“汪汪”叫')\n",
    "\n",
    "def do(all):\n",
    "    all.call()\n",
    "\n",
    "A = Animal('小黑',4)\n",
    "C = Cat('喵喵', 2, '男')\n",
    "D = Dog('旺财', 5, '女')\n",
    "\n",
    "for x in (A,C,D):\n",
    "    do(x)"
   ]
  },
  {
   "cell_type": "markdown",
   "metadata": {},
   "source": [
    "# Pytorch中类的定义与forword函数"
   ]
  },
  {
   "cell_type": "code",
   "execution_count": 29,
   "metadata": {},
   "outputs": [
    {
     "name": "stdout",
     "output_type": "stream",
     "text": [
      "Hello, Smith!\n"
     ]
    }
   ],
   "source": [
    "import torch as t\n",
    "import torch.nn as nn\n",
    "\n",
    "#Pytorch中网络模型或网络层都可以使用类的形式定义，需要类继承nn.Module类\n",
    "#Pytorch 类的定义中两个重要函数的定义：__init__()与forward()\n",
    "\n",
    "class Greeter(nn.Module):\n",
    "    #Constructor\n",
    "    def __init__(self, name):\n",
    "        super().__init__()\n",
    "        self.name = name\n",
    "        #self.a = nn.Parameter(t.randn(()))\n",
    "    \n",
    "    #Instance function\n",
    "    def forward(self, loud = False):\n",
    "        if loud:\n",
    "            print('Hello, {}!'.format(self.name.upper()))\n",
    "        else:\n",
    "            print('Hello, {}!'.format(self.name))\n",
    "\n",
    "g = Greeter('Smith')\n",
    "g()\n",
    "#g.forward()\n",
    "#注意此处()调用forward函数; \n",
    "#为什么可以通过“对象名()”的方式调用forward函数;pytorch: () -> __call__() -> forward();tensorflow: () -> __call__() -> call()\n",
    "\"\"\"g()之所以等价于g.forward()，就是因为在类（class）中使用了__call__函数，forward函数已在__call__函数中进行调用。\n",
    "Python中 __ call__魔法函数的功能类似于C++语言在类中重载 () 运算符，使得类实例对象可以像调用普通函数那样，以“对象名()”的形式使用。\n",
    "\"\"\"\n"
   ]
  },
  {
   "cell_type": "code",
   "execution_count": 27,
   "metadata": {},
   "outputs": [
    {
     "name": "stdout",
     "output_type": "stream",
     "text": [
      "喵喵 会“喵喵”叫\n"
     ]
    }
   ],
   "source": [
    "#继承\n",
    "class Animal(nn.Module):\n",
    "    def __init__(self, name, age):\n",
    "        super().__init__()\n",
    "        self.name = name\n",
    "        self.age = age\n",
    "    \n",
    "    def forward(self):\n",
    "        print(self.name, '会叫')\n",
    "\n",
    "class Cat(Animal):\n",
    "    def __init__(self,name,age,sex):\n",
    "        super(Cat, self).__init__(name,age)  # 初始化父类中相关属性\n",
    "        self.sex=sex\n",
    "    \n",
    "    def forward(self):\n",
    "        print(self.name, '会“喵喵”叫')\n",
    "\n",
    "#注意此处()调用forward函数        \n",
    "c = Cat('喵喵', 2, '男') \n",
    "\n",
    "c()"
   ]
  },
  {
   "cell_type": "code",
   "execution_count": 28,
   "metadata": {},
   "outputs": [
    {
     "name": "stdout",
     "output_type": "stream",
     "text": [
      "小黑 会叫\n",
      "喵喵 会“喵喵”叫\n",
      "旺财 会“汪汪”叫\n"
     ]
    }
   ],
   "source": [
    "#多态\n",
    "class Dog(Animal):\n",
    "    def __init__(self, name, age, sex):\n",
    "        super(Dog, self).__init__(name, age)\n",
    "        self.sex = sex\n",
    "    \n",
    "    def forward(self):\n",
    "        print(self.name, '会“汪汪”叫')\n",
    "\n",
    "def do(all):\n",
    "    #注意此处()调用forward函数，如前面一样！\n",
    "    all()\n",
    "\n",
    "A = Animal('小黑',4)\n",
    "C = Cat('喵喵', 2, '男')\n",
    "D = Dog('旺财', 5, '女')\n",
    "\n",
    "for x in (A,C,D):\n",
    "    do(x)"
   ]
  },
  {
   "cell_type": "markdown",
   "metadata": {},
   "source": [
    "# numpy包的使用"
   ]
  },
  {
   "cell_type": "code",
   "execution_count": 1,
   "metadata": {},
   "outputs": [
    {
     "name": "stderr",
     "output_type": "stream",
     "text": [
      "C:\\ProgramData\\Anaconda3\\lib\\site-packages\\numpy\\_distributor_init.py:32: UserWarning: loaded more than 1 DLL from .libs:\n",
      "C:\\ProgramData\\Anaconda3\\lib\\site-packages\\numpy\\.libs\\libopenblas.TXA6YQSD3GCQQC22GEQ54J2UDCXDXHWN.gfortran-win_amd64.dll\n",
      "C:\\ProgramData\\Anaconda3\\lib\\site-packages\\numpy\\.libs\\libopenblas.XWYDX2IKJW2NMTWSFYNGFUWKQU3LYTCZ.gfortran-win_amd64.dll\n",
      "  stacklevel=1)\n"
     ]
    },
    {
     "name": "stdout",
     "output_type": "stream",
     "text": [
      "[[1 2]\n",
      " [3 4]]\n",
      "[[0.10410492 0.13097127]\n",
      " [0.76240668 0.09805641]\n",
      " [0.09266694 0.35473111]]\n"
     ]
    }
   ],
   "source": [
    "#矩阵创建\n",
    "import numpy as np\n",
    "a = np.array([[1,2],[3,4]])\n",
    "b = np.random.random((3, 2))\n",
    "print(a)\n",
    "print(b)"
   ]
  },
  {
   "cell_type": "code",
   "execution_count": 36,
   "metadata": {},
   "outputs": [
    {
     "name": "stdout",
     "output_type": "stream",
     "text": [
      "[[0.50063143 0.30961135 0.76903825]\n",
      " [0.46668191 0.65181867 0.34422889]]\n"
     ]
    }
   ],
   "source": [
    "#改变矩阵形状或扩充维度\n",
    "b = np.reshape(b,(2, 3))\n",
    "print(b)"
   ]
  },
  {
   "cell_type": "code",
   "execution_count": 38,
   "metadata": {},
   "outputs": [
    {
     "name": "stdout",
     "output_type": "stream",
     "text": [
      "[[[0.50063143 0.30961135 0.76903825]\n",
      "  [0.46668191 0.65181867 0.34422889]]]\n"
     ]
    }
   ],
   "source": [
    "b = np.reshape(b,(1, 2, 3))\n",
    "print(b)"
   ]
  },
  {
   "cell_type": "code",
   "execution_count": 44,
   "metadata": {},
   "outputs": [
    {
     "name": "stdout",
     "output_type": "stream",
     "text": [
      "[[0.50063143 0.30961135 0.76903825]\n",
      " [0.46668191 0.65181867 0.34422889]]\n",
      "6\n",
      "(2, 3)\n"
     ]
    }
   ],
   "source": [
    "b = np.reshape(b,(2, 3))\n",
    "print(b)\n",
    "print(b.size)\n",
    "print(b.shape)"
   ]
  },
  {
   "cell_type": "code",
   "execution_count": 45,
   "metadata": {},
   "outputs": [
    {
     "name": "stdout",
     "output_type": "stream",
     "text": [
      "[[ 0  1  2]\n",
      " [10 11 12]\n",
      " [20 21 22]\n",
      " [30 31 32]]\n"
     ]
    }
   ],
   "source": [
    "#广播\n",
    "#当运算中的 2 个数组的形状不同时，numpy 将自动触发广播机制\n",
    "a = np.array([[ 0, 0, 0],\n",
    "           [10,10,10],\n",
    "           [20,20,20],\n",
    "           [30,30,30]])\n",
    "b = np.array([0,1,2])\n",
    "\"\"\"\n",
    "b = np.array([[0,1,2],\n",
    "                [0,1,2],\n",
    "                [0,1,2],\n",
    "                [0,1,2]\n",
    "])\n",
    "\"\"\"\n",
    "print(a + b)"
   ]
  },
  {
   "cell_type": "code",
   "execution_count": 47,
   "metadata": {},
   "outputs": [
    {
     "name": "stdout",
     "output_type": "stream",
     "text": [
      "[[  0   0   0]\n",
      " [100 100 100]\n",
      " [400 400 400]\n",
      " [900 900 900]]\n",
      "[[      -inf       -inf       -inf]\n",
      " [1.         1.         1.        ]\n",
      " [1.30103    1.30103    1.30103   ]\n",
      " [1.47712125 1.47712125 1.47712125]]\n"
     ]
    },
    {
     "name": "stderr",
     "output_type": "stream",
     "text": [
      "C:\\ProgramData\\Anaconda3\\lib\\site-packages\\ipykernel_launcher.py:4: RuntimeWarning: divide by zero encountered in log10\n",
      "  after removing the cwd from sys.path.\n"
     ]
    }
   ],
   "source": [
    "#逐元素操作\n",
    "c = a ** 2\n",
    "print(c)\n",
    "d = np.log10(a)\n",
    "print(d)"
   ]
  },
  {
   "cell_type": "code",
   "execution_count": 6,
   "metadata": {},
   "outputs": [
    {
     "name": "stdout",
     "output_type": "stream",
     "text": [
      "[[1. 0. 0.]\n",
      " [0. 0. 1.]]\n",
      "[[1.2039728  0.         0.        ]\n",
      " [0.         0.         1.23787436]]\n",
      "1.2209235801637768\n"
     ]
    }
   ],
   "source": [
    "y_hat = np.array([[0.30, 0.56, 0.13],[0.69, 0.02, 0.29]])\n",
    "y = np.array([0,2])\n",
    "label = np.eye(3)[y]\n",
    "print(label)\n",
    "CrossEntropyMatrix = np.multiply(label,-np.log(y_hat)) \n",
    "print(CrossEntropyMatrix)\n",
    "CrossEntropy = np.sum(CrossEntropyMatrix)/CrossEntropyMatrix.shape[0]\n",
    "print(CrossEntropy)"
   ]
  },
  {
   "cell_type": "markdown",
   "metadata": {},
   "source": [
    "# matplotlib包的使用"
   ]
  },
  {
   "cell_type": "code",
   "execution_count": 3,
   "metadata": {},
   "outputs": [
    {
     "data": {
      "image/png": "[encoded data removed]",
      "text/plain": [
       "<Figure size 432x288 with 1 Axes>"
      ]
     },
     "metadata": {
      "needs_background": "light"
     },
     "output_type": "display_data"
    }
   ],
   "source": [
    "import numpy as np\n",
    "import matplotlib.pyplot as plt\n",
    "\n",
    "# 按照0.1的间隔将区间[0, 3*PI]进行分割，并计算每个位置相应的sin值\n",
    "x = np.arange(0, 3 * np.pi, 0.1)\n",
    "y = np.sin(x)\n",
    "\n",
    "# 画出相应点构成的光滑曲线\n",
    "plt.plot(x, y)\n",
    "plt.show()"
   ]
  },
  {
   "cell_type": "code",
   "execution_count": 51,
   "metadata": {},
   "outputs": [
    {
     "data": {
      "image/png": "[encoded data removed]",
      "text/plain": [
       "<Figure size 432x288 with 1 Axes>"
      ]
     },
     "metadata": {
      "needs_background": "light"
     },
     "output_type": "display_data"
    }
   ],
   "source": [
    "import matplotlib.pyplot as plt\n",
    "import numpy as np\n",
    "\n",
    "x = np.array([5,7,8,7,2,17,2,9,4,11,12,9,6])\n",
    "y = np.array([99,86,87,88,111,86,103,87,94,78,77,85,86])\n",
    "plt.scatter(x, y, color = 'hotpink')\n",
    "\n",
    "x = np.array([2,2,8,1,15,8,12,9,7,3,11,4,7,14,12])\n",
    "y = np.array([100,105,84,105,90,99,90,95,94,100,79,112,91,80,85])\n",
    "plt.scatter(x, y, color = '#88c999')\n",
    "\n",
    "plt.show()"
   ]
  },
  {
   "cell_type": "code",
   "execution_count": null,
   "metadata": {},
   "outputs": [],
   "source": []
  }
 ],
 "metadata": {
  "kernelspec": {
   "display_name": "Python 3",
   "language": "python",
   "name": "python3"
  },
  "language_info": {
   "codemirror_mode": {
    "name": "ipython",
    "version": 3
   },
   "file_extension": ".py",
   "mimetype": "text/x-python",
   "name": "python",
   "nbconvert_exporter": "python",
   "pygments_lexer": "ipython3",
   "version": "3.7.3"
  }
 },
 "nbformat": 4,
 "nbformat_minor": 2
}
