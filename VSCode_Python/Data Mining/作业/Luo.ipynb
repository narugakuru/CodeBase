{
 "cells": [
  {
   "cell_type": "code",
   "execution_count": 7,
   "metadata": {},
   "outputs": [
    {
     "name": "stdout",
     "output_type": "stream",
     "text": [
      "   PassengerId  Survived  Pclass  \\\n",
      "0            1         0       3   \n",
      "1            2         1       1   \n",
      "2            3         1       3   \n",
      "3            4         1       1   \n",
      "4            5         0       3   \n",
      "\n",
      "                                                Name     Sex   Age  SibSp  \\\n",
      "0                            Braund, Mr. Owen Harris    male  22.0      1   \n",
      "1  Cumings, Mrs. John Bradley (Florence Briggs Th...  female  38.0      1   \n",
      "2                             Heikkinen, Miss. Laina  female  26.0      0   \n",
      "3       Futrelle, Mrs. Jacques Heath (Lily May Peel)  female  35.0      1   \n",
      "4                           Allen, Mr. William Henry    male  35.0      0   \n",
      "\n",
      "   Parch            Ticket     Fare Cabin Embarked  \n",
      "0      0         A/5 21171   7.2500   NaN        S  \n",
      "1      0          PC 17599  71.2833   C85        C  \n",
      "2      0  STON/O2. 3101282   7.9250   NaN        S  \n",
      "3      0            113803  53.1000  C123        S  \n",
      "4      0            373450   8.0500   NaN        S  \n"
     ]
    }
   ],
   "source": [
    "from sklearn.ensemble import RandomForestClassifier, VotingClassifier\n",
    "from sklearn.feature_selection import SelectKBest, chi2\n",
    "from sklearn.linear_model import LogisticRegression\n",
    "from sklearn.neighbors import KNeighborsClassifier\n",
    "from sklearn.neural_network import MLPClassifier\n",
    "import pandas as pd\n",
    "from sklearn import model_selection\n",
    "from sklearn.svm import SVC\n",
    "\n",
    "train_df = pd.read_csv(\"D:/Code/VSCode_Python/data/titanic_data/train.csv\")\n",
    "print(train_df.head())"
   ]
  },
  {
   "cell_type": "code",
   "execution_count": 8,
   "metadata": {},
   "outputs": [
    {
     "name": "stdout",
     "output_type": "stream",
     "text": [
      "<class 'pandas.core.frame.DataFrame'>\n",
      "RangeIndex: 891 entries, 0 to 890\n",
      "Data columns (total 12 columns):\n",
      " #   Column       Non-Null Count  Dtype  \n",
      "---  ------       --------------  -----  \n",
      " 0   PassengerId  891 non-null    int64  \n",
      " 1   Survived     891 non-null    int64  \n",
      " 2   Pclass       891 non-null    int64  \n",
      " 3   Name         891 non-null    object \n",
      " 4   Sex          891 non-null    object \n",
      " 5   Age          714 non-null    float64\n",
      " 6   SibSp        891 non-null    int64  \n",
      " 7   Parch        891 non-null    int64  \n",
      " 8   Ticket       891 non-null    object \n",
      " 9   Fare         891 non-null    float64\n",
      " 10  Cabin        204 non-null    object \n",
      " 11  Embarked     889 non-null    object \n",
      "dtypes: float64(2), int64(5), object(5)\n",
      "memory usage: 83.7+ KB\n",
      "None\n",
      "---特征工程：train_df.info----\n",
      "<class 'pandas.core.frame.DataFrame'>\n",
      "RangeIndex: 891 entries, 0 to 890\n",
      "Data columns (total 16 columns):\n",
      " #   Column        Non-Null Count  Dtype  \n",
      "---  ------        --------------  -----  \n",
      " 0   PassengerId   891 non-null    int64  \n",
      " 1   Survived      891 non-null    int64  \n",
      " 2   Pclass        891 non-null    int64  \n",
      " 3   Name          891 non-null    object \n",
      " 4   Sex           891 non-null    object \n",
      " 5   Age           891 non-null    float64\n",
      " 6   SibSp         891 non-null    int64  \n",
      " 7   Parch         891 non-null    int64  \n",
      " 8   Ticket        891 non-null    object \n",
      " 9   Fare          891 non-null    float64\n",
      " 10  Cabin         891 non-null    object \n",
      " 11  Embarked      891 non-null    object \n",
      " 12  Ticket_group  891 non-null    int64  \n",
      " 13  f_name        891 non-null    object \n",
      " 14  title         891 non-null    object \n",
      " 15  l_name        891 non-null    object \n",
      "dtypes: float64(2), int64(6), object(8)\n",
      "memory usage: 111.5+ KB\n",
      "None\n"
     ]
    }
   ],
   "source": [
    "# 特征工程\n",
    "clf = print(train_df.info())\n",
    "train_df.loc[train_df.Embarked.isnull(), \"Embarked\"] = train_df.Embarked.mode()[0]\n",
    "train_df.Cabin.fillna(\n",
    "    \"Unkonwn\", inplace=True\n",
    ")  # train_df.Age.fillna(train_df.Age.median(), inplace=True)\n",
    "train_df.Cabin.apply(lambda x: x[0])\n",
    "tg = train_df.Ticket.value_counts()  # 同行人\n",
    "train_df[\"Ticket_group\"] = train_df.Ticket.apply(lambda x: tg[x])\n",
    "train_df[\"f_name\"] = train_df.Name.apply(lambda x: x[0 : x.find(\",\")])\n",
    "train_df[\"title\"] = train_df.Name.apply(lambda x: x[x.find(\",\") + 1 : x.find(\".\")])\n",
    "train_df[\"l_name\"] = train_df.Name.apply(lambda x: x[x.find(\".\") + 1 :])\n",
    "\n",
    "titles = train_df[\"title\"].unique()\n",
    "for title in titles:\n",
    "    m_age = train_df.loc[train_df.title == title, \"Age\"].median()\n",
    "    train_df.loc[(train_df.Age.isnull()) & (train_df.title == title), \"Age\"] = m_age\n",
    "print(\"---特征工程：train_df.info----\")\n",
    "print(train_df.info())\n",
    "\n"
   ]
  },
  {
   "cell_type": "code",
   "execution_count": 9,
   "metadata": {},
   "outputs": [],
   "source": [
    "# 连续数值型的转换\n",
    "# ------family_size--------\n",
    "train_df[\"family_size\"] = train_df.Parch + train_df.SibSp + 1\n",
    "\n",
    "df2 = train_df[[\"family_size\", \"Survived\"]].groupby([\"family_size\"]).mean()\n",
    "train_df[\"fs_type\"] = \"a\"\n",
    "train_df.loc[(train_df.family_size > 1) & (train_df.family_size < 4), \"fs_type\"] = \"b\"\n",
    "train_df.loc[(train_df.family_size >= 4), \"fs_type\"] = \"c\"\n",
    "# ------family_size------end\n",
    "\n",
    "# ------Age------------\n",
    "df2 = train_df[[\"Age\", \"Survived\"]].groupby([\"Age\"])\n",
    "train_df[\"age_type\"] = \"a\"\n",
    "train_df.loc[(train_df.Age > 16) & (train_df.Age < 40), \"age_type\"] = \"b\"\n",
    "train_df.loc[(train_df.Age >= 40), \"age_type\"] = \"c\"\n",
    "\n",
    "# ------Age------------end\n",
    "\n",
    "# ------Fare----------\n",
    "df2 = train_df[[\"Fare\", \"Survived\"]].groupby([\"Fare\"]).mean()\n",
    "\n",
    "train_df[\"fare_type\"] = \"a\"\n",
    "train_df.loc[(train_df.Fare > 13) & (train_df.Fare <= 25), \"fare_type\"] = \"b\"\n",
    "train_df.loc[(train_df.Fare > 25) & (train_df.Fare <= 38), \"fare_type\"] = \"c\"\n",
    "train_df.loc[(train_df.Fare > 38) & (train_df.Fare <= 52), \"fare_type\"] = \"d\"\n",
    "train_df.loc[(train_df.Fare > 52) & (train_df.Fare <= 102), \"fare_type\"] = \"e\"\n",
    "train_df.loc[(train_df.Fare > 102), \"fare_type\"] = \"f\"\n",
    "\n",
    "# ------Fare----------end\n"
   ]
  },
  {
   "cell_type": "code",
   "execution_count": 10,
   "metadata": {},
   "outputs": [],
   "source": [
    "# 加一个child字段，对结果几乎没有帮助?\n",
    "# train_df.loc[:,'child'] = 0\n",
    "# train_df.loc[train_df.Age>=18, 'child']=1\n",
    "\n",
    "# 是否有家人遇难，是否有家人获救\n",
    "train_df[\"Family_Survival\"] = 0.5\n",
    "for grp, grp_df in train_df[\n",
    "    [\n",
    "        \"Survived\",\n",
    "        \"Name\",\n",
    "        \"f_name\",\n",
    "        \"Fare\",\n",
    "        \"Ticket\",\n",
    "        \"PassengerId\",\n",
    "        \"SibSp\",\n",
    "        \"Parch\",\n",
    "        \"Age\",\n",
    "        \"Cabin\",\n",
    "    ]\n",
    "].groupby([\"f_name\", \"Fare\"]):\n",
    "\n",
    "    if len(grp_df) != 1:\n",
    "        for ind, row in grp_df.iterrows():\n",
    "            # 删除自己遇难信息\n",
    "            smax = grp_df.drop(ind)[\"Survived\"].max()\n",
    "            smin = grp_df.drop(ind)[\"Survived\"].min()\n",
    "            passID = row[\"PassengerId\"]\n",
    "            if smax == 1.0:\n",
    "                train_df.loc[train_df[\"PassengerId\"] == passID, \"Family_Survival\"] = 1\n",
    "            elif smin == 0.0:\n",
    "                train_df.loc[train_df[\"PassengerId\"] == passID, \"Family_Survival\"] = 0"
   ]
  },
  {
   "cell_type": "code",
   "execution_count": 11,
   "metadata": {},
   "outputs": [],
   "source": [
    "# 选择算法交叉\n",
    "# 划分特征数据和标签数据，去除不需要的列\n",
    "train_df = train_df.drop(\n",
    "    [\"Age\", \"Fare\", \"Parch\", \"SibSp\", \"family_size\", \"f_name\", \"l_name\"], axis=1\n",
    ")\n",
    "X = train_df.iloc[:, 2:]\n",
    "y = train_df.iloc[:, 1]\n",
    "\n",
    "X = X.drop(\"Name\", axis=1)\n",
    "X = pd.get_dummies(X)\n",
    "\n",
    "# 定义一个算法,建立模型和验证模型\n",
    "# clf = DecisionTreeClassifier()  # 1 dtreep\n",
    "# clf1 = RandomForestClassifier()  #  2 随机森林\n",
    "# clfk = KNeighborsClassifier(n_neighbors=3)  # 4 k临近\n",
    "\n",
    "clf2 = SVC(kernel=\"linear\", C=5)  # 3 支持向量积\n",
    "# 逻辑回归\n",
    "clf3 = LogisticRegression(max_iter=1000)\n",
    "# 神经网络\n",
    "clf4 = MLPClassifier(\n",
    "    max_iter=1000, hidden_layer_sizes=(100, 60), alpha=0.1\n",
    ")  # 设置感知器，中间是隐藏层\n",
    "\n",
    "# 特征选择\n",
    "X = SelectKBest(chi2, k=700).fit_transform(X, y)"
   ]
  },
  {
   "cell_type": "code",
   "execution_count": 12,
   "metadata": {},
   "outputs": [
    {
     "name": "stdout",
     "output_type": "stream",
     "text": [
      "0.8619295712761282\n"
     ]
    }
   ],
   "source": [
    "# 集成3个算法\n",
    "vof = VotingClassifier([(\"clf2\", clf2), (\"clf3\", clf3), (\"clf4\", clf4)])\n",
    "\n",
    "# 交叉检验\n",
    "sc = model_selection.cross_val_score(vof, X, y, scoring=\"accuracy\")\n",
    "\n",
    "print(sc.mean())"
   ]
  }
 ],
 "metadata": {
  "interpreter": {
   "hash": "1aff7c1be2036bab4f680725047157614d2bfc1675ea6caa4efedf71aff27d1d"
  },
  "kernelspec": {
   "display_name": "Python 3.8.5 64-bit ('base': conda)",
   "language": "python",
   "name": "python3"
  },
  "language_info": {
   "codemirror_mode": {
    "name": "ipython",
    "version": 3
   },
   "file_extension": ".py",
   "mimetype": "text/x-python",
   "name": "python",
   "nbconvert_exporter": "python",
   "pygments_lexer": "ipython3",
   "version": "3.8.5"
  },
  "orig_nbformat": 4
 },
 "nbformat": 4,
 "nbformat_minor": 2
}
