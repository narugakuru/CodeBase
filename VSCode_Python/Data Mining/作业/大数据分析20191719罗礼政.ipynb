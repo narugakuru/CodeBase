{
 "cells": [
  {
   "cell_type": "code",
   "execution_count": 1,
   "metadata": {},
   "outputs": [],
   "source": [
    "# 导入环境\n",
    "import pandas as pd\n",
    "import numpy as np\n",
    "#  以下的 df 表示 DataFrame 对象\n",
    "\n",
    "df = pd.read_csv('D:\\Code\\VSCode_Python\\data\\心心享洗-自助洗车订单 .csv')"
   ]
  },
  {
   "cell_type": "code",
   "execution_count": 3,
   "metadata": {},
   "outputs": [
    {
     "name": "stdout",
     "output_type": "stream",
     "text": [
      "<class 'pandas.core.frame.DataFrame'>\n",
      "RangeIndex: 921 entries, 0 to 920\n",
      "Data columns (total 8 columns):\n",
      " #   Column      Non-Null Count  Dtype  \n",
      "---  ------      --------------  -----  \n",
      " 0   订单ID        921 non-null    object \n",
      " 1   用户手机号(假号码)  921 non-null    int64  \n",
      " 2   设备ID        921 non-null    object \n",
      " 3   订单金额        921 non-null    float64\n",
      " 4   实付金额        921 non-null    float64\n",
      " 5   支付渠道        921 non-null    object \n",
      " 6   订单状态        921 non-null    object \n",
      " 7   订单时间        921 non-null    object \n",
      "dtypes: float64(2), int64(1), object(5)\n",
      "memory usage: 57.7+ KB\n"
     ]
    }
   ],
   "source": [
    "# 获取数据集摘要\n",
    "df.info()"
   ]
  },
  {
   "cell_type": "code",
   "execution_count": 9,
   "metadata": {},
   "outputs": [
    {
     "data": {
      "text/plain": [
       "用户手机号(假号码)    2.310650e+09\n",
       "订单金额          3.407357e+00\n",
       "实付金额          3.172396e+00\n",
       "dtype: float64"
      ]
     },
     "execution_count": 9,
     "metadata": {},
     "output_type": "execute_result"
    }
   ],
   "source": [
    "# 计算数值列标准差 s\n",
    "# 无偏标准差\n",
    "df.std() \n",
    "# 有偏标准差\n",
    "df.std(ddof=0)"
   ]
  },
  {
   "cell_type": "code",
   "execution_count": 11,
   "metadata": {},
   "outputs": [
    {
     "data": {
      "text/plain": [
       "用户手机号(假号码)    1.700605e+10\n",
       "订单金额          4.591400e+00\n",
       "实付金额          3.046800e+00\n",
       "dtype: float64"
      ]
     },
     "execution_count": 11,
     "metadata": {},
     "output_type": "execute_result"
    }
   ],
   "source": [
    "# 计算数据集前50列均值 head，mean\n",
    "df.head(50).mean()"
   ]
  }
 ],
 "metadata": {
  "interpreter": {
   "hash": "1aff7c1be2036bab4f680725047157614d2bfc1675ea6caa4efedf71aff27d1d"
  },
  "kernelspec": {
   "display_name": "Python 3.8.5 64-bit ('base': conda)",
   "name": "python3"
  },
  "language_info": {
   "codemirror_mode": {
    "name": "ipython",
    "version": 3
   },
   "file_extension": ".py",
   "mimetype": "text/x-python",
   "name": "python",
   "nbconvert_exporter": "python",
   "pygments_lexer": "ipython3",
   "version": "3.8.5"
  },
  "orig_nbformat": 4
 },
 "nbformat": 4,
 "nbformat_minor": 2
}
