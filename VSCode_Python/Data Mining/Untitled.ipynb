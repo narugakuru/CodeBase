{
 "cells": [
  {
   "cell_type": "code",
   "execution_count": 105,
   "metadata": {},
   "outputs": [],
   "source": [
    "import numpy as np\n",
    "import pandas as pd"
   ]
  },
  {
   "cell_type": "code",
   "execution_count": 106,
   "metadata": {},
   "outputs": [
    {
     "name": "stdout",
     "output_type": "stream",
     "text": [
      "列表创建一维数组\n",
      "[1 2 3 4 5]\n",
      "int32\n"
     ]
    }
   ],
   "source": [
    "print(\"列表创建一维数组\")\n",
    "data = [1,2,3,4,5]\n",
    "x = np.array(data)\n",
    "print(x)\n",
    "print(x.dtype)"
   ]
  },
  {
   "cell_type": "code",
   "execution_count": 107,
   "metadata": {},
   "outputs": [
    {
     "name": "stdout",
     "output_type": "stream",
     "text": [
      "元组创建二维数组\n",
      "[[1 2]\n",
      " [2 3]\n",
      " [5 6]]\n",
      "2\n",
      "(3, 2)\n"
     ]
    }
   ],
   "source": [
    "print(\"元组创建二维数组\")\n",
    "data2=([1,2],[2,3],[5,6])\n",
    "x= np.array(data2)\n",
    "print(x)\n",
    "print(x.ndim) #维度\n",
    "print(x.shape) #各维度大小"
   ]
  },
  {
   "cell_type": "code",
   "execution_count": 108,
   "metadata": {},
   "outputs": [
    {
     "name": "stdout",
     "output_type": "stream",
     "text": [
      "创建zero,ones,empyt\n",
      "zeros一维\n",
      "[0. 0. 0. 0.]\n",
      "zeros二维\n",
      "[[0. 0.]\n",
      " [0. 0.]\n",
      " [0. 0.]]\n",
      "ones\n",
      "[[1. 1.]\n",
      " [1. 1.]]\n",
      "空二维数组\n",
      "[[0. 0. 0.]\n",
      " [0. 0. 0.]]\n",
      "等差数列\n",
      "[0 1 2 3 4]\n",
      "[0 2 4 6 8]\n"
     ]
    }
   ],
   "source": [
    "print(\"创建zero,ones,empyt\")\n",
    "\n",
    "print(\"zeros一维\")\n",
    "arr1 = np.zeros(4)\n",
    "print(arr1)\n",
    "\n",
    "print(\"zeros二维\")\n",
    "arr2=np.zeros((3,2))\n",
    "print(arr2)\n",
    "\n",
    "print(\"ones\")\n",
    "arr3=np.ones((2,2))\n",
    "print(arr3)\n",
    "\n",
    "print(\"空二维数组\")\n",
    "arr4=np.empty((2,3))\n",
    "print(arr4)\n",
    "\n",
    "print(\"等差数列\")\n",
    "print(np.arange(5))\n",
    "print(np.arange(0,10,2))"
   ]
  },
  {
   "cell_type": "code",
   "execution_count": 109,
   "metadata": {},
   "outputs": [
    {
     "name": "stdout",
     "output_type": "stream",
     "text": [
      "数组与标量，数组与数组的运算:\n",
      "[[ 3  6  9]\n",
      " [12 15 18]]\n",
      "[[ 3  8 15]\n",
      " [24 35 44]]\n"
     ]
    }
   ],
   "source": [
    "# In[5]:\n",
    "print(\"数组与标量，数组与数组的运算:\")\n",
    "arr5 = np.array([[1, 2, 3], [4, 5, 6]])\n",
    "print(arr5 * 3)\n",
    "\n",
    "arr6 = np.array([[1,4,9],[16,25,32]])\n",
    "print(arr5*2+arr6)"
   ]
  },
  {
   "cell_type": "code",
   "execution_count": 110,
   "metadata": {},
   "outputs": [
    {
     "name": "stdout",
     "output_type": "stream",
     "text": [
      "数组的基本索引\n",
      "[1 2]\n",
      "4\n",
      "2\n",
      "[[1 2]\n",
      " [3 4]]\n",
      "1\n",
      "[[0 2]\n",
      " [3 4]]\n"
     ]
    }
   ],
   "source": [
    "print(\"数组的基本索引\")\n",
    "arr7=np.array([[1,2],[3,4],[5,6]])\n",
    "\n",
    "print(arr7[0])\n",
    "print(arr7[1][1])\n",
    "print(arr7[0,1])\n",
    "\n",
    "#三维数组\n",
    "arr7=np.array([[[1,2],[3,4]],[[5,6],[7,8]]])\n",
    "y = arr7[0].copy()\n",
    "print(y)\n",
    "print(y[0,0])\n",
    "\n",
    "y[0][0]=0\n",
    "print(y)"
   ]
  },
  {
   "cell_type": "code",
   "execution_count": 111,
   "metadata": {},
   "outputs": [
    {
     "name": "stdout",
     "output_type": "stream",
     "text": [
      "ndarray切片的一维应用\n",
      "[2 3 4]\n",
      "[1 2]\n",
      "[3 4 5 6 7 8 9]\n",
      "[1 3 5]\n",
      "二维切片\n",
      "[[1 2]\n",
      " [3 4]]\n",
      "[[1 2]\n",
      " [5 6]]\n"
     ]
    }
   ],
   "source": [
    "print(\"ndarray切片的一维应用\")\n",
    "arr9=np.array([1,2,3,4,5,6,7,8,9])\n",
    "print(arr9[1:4])\n",
    "print(arr9[:2])\n",
    "print(arr9[2:])\n",
    "print(arr9[0:5:2])\n",
    "\n",
    "print(\"二维切片\")\n",
    "arr10 = np.array([[1,2],[3,4],[5,6]])\n",
    "print(arr10[:2])\n",
    "print(arr10[0:3:2])\n"
   ]
  },
  {
   "cell_type": "code",
   "execution_count": 112,
   "metadata": {},
   "outputs": [
    {
     "name": "stdout",
     "output_type": "stream",
     "text": [
      "T属性\n",
      "[0 1 2 3 4 5 6 7 8]\n",
      "[[0 1 2]\n",
      " [3 4 5]\n",
      " [6 7 8]]\n",
      "转置\n",
      "[[0 3 6]\n",
      " [1 4 7]\n",
      " [2 5 8]]\n",
      "[[  5  14  23]\n",
      " [ 14  50  86]\n",
      " [ 23  86 149]]\n"
     ]
    }
   ],
   "source": [
    "print(\"T属性\")\n",
    "arr11=np.arange(9)\n",
    "arr12=arr11.reshape((3,3)) #维度变换\n",
    "print(arr11)\n",
    "print(arr12)\n",
    "\n",
    "print(\"转置\")\n",
    "print(arr12.T)\n",
    "print(np.dot(arr12,arr12.T)) #点乘法 横列乘数列\n"
   ]
  },
  {
   "cell_type": "code",
   "execution_count": 113,
   "metadata": {},
   "outputs": [
    {
     "name": "stdout",
     "output_type": "stream",
     "text": [
      "tanspose方法\n",
      "[[[0 1]\n",
      "  [4 5]]\n",
      "\n",
      " [[2 3]\n",
      "  [6 7]]]\n",
      "swapaxes\n",
      "[[[0 1]\n",
      "  [4 5]]\n",
      "\n",
      " [[2 3]\n",
      "  [6 7]]]\n",
      "4\n",
      "[[0 1 2]\n",
      " [3 4 5]\n",
      " [6 7 8]]\n",
      "[[0 3 6]\n",
      " [1 4 7]\n",
      " [2 5 8]]\n"
     ]
    }
   ],
   "source": [
    "arr11=np.arange(8).reshape((2,2,2))\n",
    "\n",
    "print(\"tanspose方法\")\n",
    "#轴变换\n",
    "arr12 = arr11.transpose((1,0,2)) # arr12[x][y][z] = arr11[y][x][z]\n",
    "print(arr12)\n",
    "\n",
    "print(\"swapaxes\")\n",
    "#xy轴互换\n",
    "arr12 = arr11.swapaxes(1,0)\n",
    "print(arr12)\n",
    "print(arr12[0][1][0])\n",
    "\n",
    "arr12 = np.arange(9).reshape((3,3))\n",
    "print(arr12)\n",
    "print(arr12.swapaxes(1,0))\n"
   ]
  },
  {
   "cell_type": "code",
   "execution_count": 114,
   "metadata": {},
   "outputs": [
    {
     "name": "stdout",
     "output_type": "stream",
     "text": [
      "一元ufunc示例\n",
      "[0 1 2 3 4 5]\n",
      "[ 0  1  4  9 16 25]\n",
      "[0.5 0.6 0.7 0.8]\n",
      "[1. 1. 1. 1.]\n"
     ]
    }
   ],
   "source": [
    "print(\"一元ufunc示例\")\n",
    "arr13 = np.arange(6)\n",
    "print(arr13)\n",
    "\n",
    "print(np.square(arr13))\n",
    "arr14=np.array([1.5,1.6,1.7,1.8])\n",
    "y,z=np.modf(arr14)\n",
    "print(y)\n",
    "print(z)\n"
   ]
  },
  {
   "cell_type": "code",
   "execution_count": 115,
   "metadata": {},
   "outputs": [
    {
     "name": "stdout",
     "output_type": "stream",
     "text": [
      "[[5 6]\n",
      " [7 8]]\n",
      "[[1 2]\n",
      " [3 4]]\n"
     ]
    }
   ],
   "source": [
    "arr15 = np.array([[1,2],[3,4]])\n",
    "arr16 = np.array([[5,6],[7,8]])\n",
    "\n",
    "\n",
    "print(np.maximum(arr15,arr16))\n",
    "print(np.minimum(arr15,arr16))"
   ]
  },
  {
   "cell_type": "markdown",
   "metadata": {},
   "source": [
    "Pandas的使用：Series和DataFrame"
   ]
  },
  {
   "cell_type": "code",
   "execution_count": 116,
   "metadata": {},
   "outputs": [
    {
     "name": "stdout",
     "output_type": "stream",
     "text": [
      "0      2\n",
      "1    445\n",
      "2    -41\n",
      "3     57\n",
      "dtype: int64\n"
     ]
    },
    {
     "data": {
      "text/plain": [
       "RangeIndex(start=0, stop=4, step=1)"
      ]
     },
     "execution_count": 116,
     "metadata": {},
     "output_type": "execute_result"
    }
   ],
   "source": [
    "obj = pd.Series([2,445,-41,57])\n",
    "print(obj)\n",
    "obj.values\n",
    "obj.index"
   ]
  },
  {
   "cell_type": "code",
   "execution_count": 117,
   "metadata": {},
   "outputs": [
    {
     "data": {
      "text/plain": [
       "trick      2\n",
       "fuck       3\n",
       "more     3vd\n",
       "dtype: object"
      ]
     },
     "execution_count": 117,
     "metadata": {},
     "output_type": "execute_result"
    }
   ],
   "source": [
    "obj2 = pd.Series([321,65467,12],index=['a','b','c'])\n",
    "obj2\n",
    "obj2[['a','c']]\n",
    "nums = {'trick':2,'fuck':3,'more':'3vd'}\n",
    "obj3 = pd.Series(nums)\n",
    "obj3"
   ]
  },
  {
   "cell_type": "code",
   "execution_count": 119,
   "metadata": {},
   "outputs": [
    {
     "data": {
      "text/html": [
       "<div>\n",
       "<style scoped>\n",
       "    .dataframe tbody tr th:only-of-type {\n",
       "        vertical-align: middle;\n",
       "    }\n",
       "\n",
       "    .dataframe tbody tr th {\n",
       "        vertical-align: top;\n",
       "    }\n",
       "\n",
       "    .dataframe thead th {\n",
       "        text-align: right;\n",
       "    }\n",
       "</style>\n",
       "<table border=\"1\" class=\"dataframe\">\n",
       "  <thead>\n",
       "    <tr style=\"text-align: right;\">\n",
       "      <th></th>\n",
       "      <th>name</th>\n",
       "      <th>score</th>\n",
       "    </tr>\n",
       "  </thead>\n",
       "  <tbody>\n",
       "    <tr>\n",
       "      <th>0</th>\n",
       "      <td>angel</td>\n",
       "      <td>89</td>\n",
       "    </tr>\n",
       "    <tr>\n",
       "      <th>1</th>\n",
       "      <td>tom</td>\n",
       "      <td>76</td>\n",
       "    </tr>\n",
       "    <tr>\n",
       "      <th>2</th>\n",
       "      <td>anna</td>\n",
       "      <td>98</td>\n",
       "    </tr>\n",
       "  </tbody>\n",
       "</table>\n",
       "</div>"
      ],
      "text/plain": [
       "    name  score\n",
       "0  angel     89\n",
       "1    tom     76\n",
       "2   anna     98"
      ]
     },
     "execution_count": 119,
     "metadata": {},
     "output_type": "execute_result"
    }
   ],
   "source": [
    "data = { \"name\":[\"angel\",\"tom\",\"anna\"],\n",
    "    \"age\":[52,65,23],\n",
    "    \"score\":[89,76,98] }\n",
    "\n",
    "frame = pd.DataFrame(data)\n",
    "frame\n",
    "frame1 = pd.DataFrame(data,columns=[\"name\",\"score\"])\n",
    "frame1"
   ]
  },
  {
   "cell_type": "code",
   "execution_count": 127,
   "metadata": {},
   "outputs": [
    {
     "data": {
      "text/html": [
       "<div>\n",
       "<style scoped>\n",
       "    .dataframe tbody tr th:only-of-type {\n",
       "        vertical-align: middle;\n",
       "    }\n",
       "\n",
       "    .dataframe tbody tr th {\n",
       "        vertical-align: top;\n",
       "    }\n",
       "\n",
       "    .dataframe thead th {\n",
       "        text-align: right;\n",
       "    }\n",
       "</style>\n",
       "<table border=\"1\" class=\"dataframe\">\n",
       "  <thead>\n",
       "    <tr style=\"text-align: right;\">\n",
       "      <th></th>\n",
       "      <th>name</th>\n",
       "      <th>age</th>\n",
       "      <th>score</th>\n",
       "      <th>city</th>\n",
       "      <th>one</th>\n",
       "    </tr>\n",
       "  </thead>\n",
       "  <tbody>\n",
       "    <tr>\n",
       "      <th>one</th>\n",
       "      <td>angel</td>\n",
       "      <td>52</td>\n",
       "      <td>89</td>\n",
       "      <td>Xi an</td>\n",
       "      <td>Leon</td>\n",
       "    </tr>\n",
       "    <tr>\n",
       "      <th>two</th>\n",
       "      <td>tom</td>\n",
       "      <td>65</td>\n",
       "      <td>76</td>\n",
       "      <td>Xi an</td>\n",
       "      <td>21</td>\n",
       "    </tr>\n",
       "    <tr>\n",
       "      <th>three</th>\n",
       "      <td>anna</td>\n",
       "      <td>23</td>\n",
       "      <td>98</td>\n",
       "      <td>Xi an</td>\n",
       "      <td>beijing</td>\n",
       "    </tr>\n",
       "  </tbody>\n",
       "</table>\n",
       "</div>"
      ],
      "text/plain": [
       "        name  age  score   city      one\n",
       "one    angel   52     89  Xi an     Leon\n",
       "two      tom   65     76  Xi an       21\n",
       "three   anna   23     98  Xi an  beijing"
      ]
     },
     "execution_count": 127,
     "metadata": {},
     "output_type": "execute_result"
    }
   ],
   "source": [
    "frame2 = pd.DataFrame(data,columns=[\"name\",\"age\",\"score\",\"city\"],index=[\"one\",\"two\",\"three\"])\n",
    "frame2\n",
    "frame2[\"name\"]\n",
    "frame2.loc[\"two\"]\n",
    "frame2[\"city\"]=\"Xi an\"\n",
    "frame2\n",
    "\n",
    "frame2[\"one\"]=[\"Leon\",21,\"beijing\"]\n",
    "frame2"
   ]
  },
  {
   "cell_type": "code",
   "execution_count": 130,
   "metadata": {},
   "outputs": [
    {
     "data": {
      "text/html": [
       "<div>\n",
       "<style scoped>\n",
       "    .dataframe tbody tr th:only-of-type {\n",
       "        vertical-align: middle;\n",
       "    }\n",
       "\n",
       "    .dataframe tbody tr th {\n",
       "        vertical-align: top;\n",
       "    }\n",
       "\n",
       "    .dataframe thead th {\n",
       "        text-align: right;\n",
       "    }\n",
       "</style>\n",
       "<table border=\"1\" class=\"dataframe\">\n",
       "  <thead>\n",
       "    <tr style=\"text-align: right;\">\n",
       "      <th></th>\n",
       "      <th>first</th>\n",
       "      <th>second</th>\n",
       "      <th>third</th>\n",
       "    </tr>\n",
       "  </thead>\n",
       "  <tbody>\n",
       "    <tr>\n",
       "      <th>one</th>\n",
       "      <td>50</td>\n",
       "      <td>1</td>\n",
       "      <td>2</td>\n",
       "    </tr>\n",
       "    <tr>\n",
       "      <th>two</th>\n",
       "      <td>3</td>\n",
       "      <td>4</td>\n",
       "      <td>5</td>\n",
       "    </tr>\n",
       "    <tr>\n",
       "      <th>three</th>\n",
       "      <td>6</td>\n",
       "      <td>7</td>\n",
       "      <td>8</td>\n",
       "    </tr>\n",
       "    <tr>\n",
       "      <th>four</th>\n",
       "      <td>9</td>\n",
       "      <td>10</td>\n",
       "      <td>11</td>\n",
       "    </tr>\n",
       "    <tr>\n",
       "      <th>five</th>\n",
       "      <td>12</td>\n",
       "      <td>13</td>\n",
       "      <td>14</td>\n",
       "    </tr>\n",
       "  </tbody>\n",
       "</table>\n",
       "</div>"
      ],
      "text/plain": [
       "       first  second  third\n",
       "one       50       1      2\n",
       "two        3       4      5\n",
       "three      6       7      8\n",
       "four       9      10     11\n",
       "five      12      13     14"
      ]
     },
     "execution_count": 130,
     "metadata": {},
     "output_type": "execute_result"
    }
   ],
   "source": [
    "frame3 = pd.DataFrame(np.arange(15).reshape(5,3),index=[\"one\",\"two\",\"three\",\"four\",\"five\"],columns=[\"first\",\"second\",\"third\"])\n",
    "frame3\n",
    "frame3[\"first\"][\"one\"] = 50\n",
    "frame3"
   ]
  }
 ],
 "metadata": {
  "interpreter": {
   "hash": "1aff7c1be2036bab4f680725047157614d2bfc1675ea6caa4efedf71aff27d1d"
  },
  "kernelspec": {
   "display_name": "Python 3.8.5 64-bit ('base': conda)",
   "name": "python3"
  },
  "language_info": {
   "codemirror_mode": {
    "name": "ipython",
    "version": 3
   },
   "file_extension": ".py",
   "mimetype": "text/x-python",
   "name": "python",
   "nbconvert_exporter": "python",
   "pygments_lexer": "ipython3",
   "version": "3.8.5"
  }
 },
 "nbformat": 4,
 "nbformat_minor": 4
}
