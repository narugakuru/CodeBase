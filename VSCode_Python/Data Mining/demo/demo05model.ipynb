{
 "cells": [
  {
   "cell_type": "code",
   "execution_count": 12,
   "metadata": {},
   "outputs": [],
   "source": [
    "import pandas as pd\n",
    "import numpy as np\n",
    "from sklearn.datasets import load_breast_cancer\n",
    "x,y = load_breast_cancer(return_X_y=True,as_frame=True)"
   ]
  },
  {
   "cell_type": "code",
   "execution_count": 13,
   "metadata": {},
   "outputs": [
    {
     "name": "stdout",
     "output_type": "stream",
     "text": [
      "(419, 30) (150, 30) (419,) (150,)\n"
     ]
    },
    {
     "data": {
      "text/plain": [
       "DecisionTreeClassifier()"
      ]
     },
     "execution_count": 13,
     "metadata": {},
     "output_type": "execute_result"
    }
   ],
   "source": [
    "#using the model_selection module of scikit-learn (sklearn)\n",
    "from sklearn import model_selection\n",
    "#test set size = 150 ;\n",
    "#training set size = 569 –test set = 419\n",
    "X_train,X_test,y_train,y_test= model_selection.train_test_split(x,y,test_size= \n",
    "150,random_state=0)\n",
    "print(X_train.shape,X_test.shape,y_train.shape,y_test.shape)\n",
    "from sklearn.tree import DecisionTreeClassifier \n",
    "clf = DecisionTreeClassifier()\n",
    "clf.fit(X_train, y_train)"
   ]
  },
  {
   "cell_type": "code",
   "execution_count": 14,
   "metadata": {},
   "outputs": [
    {
     "data": {
      "text/plain": [
       "0.8933333333333333"
      ]
     },
     "execution_count": 14,
     "metadata": {},
     "output_type": "execute_result"
    }
   ],
   "source": [
    "from sklearn.tree import DecisionTreeClassifier\n",
    "clf = DecisionTreeClassifier()\n",
    "clf.fit(X_train, y_train)\n",
    "y_pred = clf.predict(X_test)\n",
    "clf.score(X_test,y_test)\n"
   ]
  },
  {
   "cell_type": "code",
   "execution_count": 20,
   "metadata": {},
   "outputs": [
    {
     "data": {
      "text/plain": [
       "0.9111111111111111"
      ]
     },
     "execution_count": 20,
     "metadata": {},
     "output_type": "execute_result"
    }
   ],
   "source": [
    "from sklearn.metrics import confusion_matrix\n",
    "confusion_matrix(y_test,y_pred)\n",
    "\n",
    "from sklearn import metrics\n",
    "#混淆矩阵\n",
    "cm = metrics.confusion_matrix(y_test,y_pred) \n",
    "#准确率\n",
    "acc = metrics.accuracy_score(y_test,y_pred)\n",
    "#精确率\n",
    "acc = metrics. precision_score(y_test,y_pred)\n",
    "#错误率\n",
    "err = 1.0 - acc\n",
    "#覆盖度\n",
    "# ValueError: pos_label='positive' is not a valid label: array([0, 1])\n",
    "se = metrics.recall_score(y_test,y_pred,pos_label=1)\n",
    "#f1分值\n",
    "metrics.f1_score(y_test,y_pred)"
   ]
  },
  {
   "cell_type": "code",
   "execution_count": 21,
   "metadata": {},
   "outputs": [
    {
     "name": "stdout",
     "output_type": "stream",
     "text": [
      "[0.9122807  0.9122807  0.92982456 0.95614035 0.89380531]\n",
      "0.9208663251047975\n"
     ]
    }
   ],
   "source": [
    "from sklearn import model_selection\n",
    "#5组 交叉验证，评估准确率\n",
    "succes= model_selection.cross_val_score(clf,x,y,cv=5,scoring='accuracy')\n",
    "#每次分组的准确率\n",
    "print(succes)\n",
    "#平均准确率\n",
    "print(succes.mean())\n"
   ]
  },
  {
   "cell_type": "code",
   "execution_count": 25,
   "metadata": {},
   "outputs": [
    {
     "name": "stdout",
     "output_type": "stream",
     "text": [
      "                                               params  mean_test_score\n",
      "0   {'criterion': 'gini', 'max_depth': 1, 'min_sam...         0.885370\n",
      "1   {'criterion': 'gini', 'max_depth': 1, 'min_sam...         0.885370\n",
      "2   {'criterion': 'gini', 'max_depth': 1, 'min_sam...         0.885370\n",
      "3   {'criterion': 'gini', 'max_depth': 1, 'min_sam...         0.885370\n",
      "4   {'criterion': 'gini', 'max_depth': 1, 'min_sam...         0.885370\n",
      "..                                                ...              ...\n",
      "67  {'criterion': 'entropy', 'max_depth': None, 'm...         0.921170\n",
      "68  {'criterion': 'entropy', 'max_depth': None, 'm...         0.930752\n",
      "69  {'criterion': 'entropy', 'max_depth': None, 'm...         0.925932\n",
      "70  {'criterion': 'entropy', 'max_depth': None, 'm...         0.933104\n",
      "71  {'criterion': 'entropy', 'max_depth': None, 'm...         0.925961\n",
      "\n",
      "[72 rows x 2 columns]\n",
      "{'criterion': 'entropy', 'max_depth': None, 'min_samples_split': 6}\n",
      "0.9331038439472173\n",
      "0.9533333333333334\n"
     ]
    }
   ],
   "source": [
    "\"\"\" criterion{\"gini\", \"entropy\"}, default=\"gini\"\n",
    "max_depth int, default=None\n",
    "min_samples_split int or float, default=2\n",
    " \"\"\"\n",
    " \n",
    "parametres= [{'max_depth':[1,2,3,4,5,None],'min_samples_split':[2,3,4,5,6,10],'criterion':['gini','entropy']}]\n",
    "# 选择参数\n",
    "parametres= [{'max_depth':[1,2,3,4,5,None],'min_samples_split':[2,3,4,5,6,10],'criterion':['gini','entropy']}]\n",
    "#定义搜索网格, 默认采用5组交叉验证\n",
    "grid = model_selection.GridSearchCV(estimator=clf,param_grid=parametres,scoring='accuracy')\n",
    "#启动搜索-计算可能会很长\n",
    "grille = grid.fit(X_train,y_train)\n",
    "#result for each combination\n",
    "print(pd.DataFrame.from_dict(grille.cv_results_).loc[:,[\"params\",\"mean_test_score\"]]) \n",
    "# 打印最佳参数\n",
    "print(grille.best_params_) \n",
    "# 最佳准确率\n",
    "print(grille.best_score_) \n",
    "#预测\n",
    "y_pred3 = grille.predict(X_test)\n",
    "#测试数据集的预测效果\n",
    "print(metrics.accuracy_score(y_test,y_pred3))"
   ]
  },
  {
   "cell_type": "code",
   "execution_count": 26,
   "metadata": {},
   "outputs": [
    {
     "name": "stdout",
     "output_type": "stream",
     "text": [
      "0.9806862288464522 2.220446049250313e-16\n"
     ]
    }
   ],
   "source": [
    "from sklearn.linear_model import LogisticRegression\n",
    "from sklearn.preprocessing import StandardScaler  # 标准化工具\n",
    "from sklearn.feature_selection import SelectKBest, chi2 #特征选择\n",
    "from sklearn.datasets import load_breast_cancer\n",
    "\n",
    "X, y = load_breast_cancer(return_X_y=True, as_frame=True) #加载乳腺癌数据\n",
    "\n",
    "def train_cv():\n",
    "    stds = StandardScaler() #特征缩放\n",
    "    x2 = stds.fit_transform(X)\n",
    "    cls = LogisticRegression(max_iter=10000)  # 逻辑回归\n",
    "    cv = model_selection.cross_val_score(cls, x2, y, cv=5, scoring=\"accuracy\") #模型选择\n",
    "    return cv.mean()\n",
    "k = 30\n",
    "sa = np.zeros(k)\n",
    "X_new = SelectKBest(chi2, k=21).fit_transform(X, y)  # 选择特征\n",
    "for i in range(k):\n",
    "    sa[i] = train_cv()\n",
    "print(sa.mean(), sa.std())\n",
    "\n"
   ]
  }
 ],
 "metadata": {
  "interpreter": {
   "hash": "1aff7c1be2036bab4f680725047157614d2bfc1675ea6caa4efedf71aff27d1d"
  },
  "kernelspec": {
   "display_name": "Python 3.8.5 64-bit ('base': conda)",
   "language": "python",
   "name": "python3"
  },
  "language_info": {
   "codemirror_mode": {
    "name": "ipython",
    "version": 3
   },
   "file_extension": ".py",
   "mimetype": "text/x-python",
   "name": "python",
   "nbconvert_exporter": "python",
   "pygments_lexer": "ipython3",
   "version": "3.8.5"
  },
  "orig_nbformat": 4
 },
 "nbformat": 4,
 "nbformat_minor": 2
}
