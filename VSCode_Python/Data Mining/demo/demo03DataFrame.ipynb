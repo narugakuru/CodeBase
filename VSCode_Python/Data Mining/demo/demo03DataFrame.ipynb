{
 "cells": [
  {
   "cell_type": "code",
   "execution_count": 72,
   "metadata": {},
   "outputs": [],
   "source": [
    "import pandas as pd\n",
    "import pymysql\n",
    "import numpy as np\n",
    "import os\n"
   ]
  },
  {
   "cell_type": "code",
   "execution_count": 73,
   "metadata": {},
   "outputs": [
    {
     "name": "stdout",
     "output_type": "stream",
     "text": [
      "     c1    c2  c3\n",
      "1  23.0   NaN NaN\n",
      "2  31.0   NaN NaN\n",
      "3  54.0  57.0 NaN\n",
      "9   NaN  92.0 NaN\n",
      "5   NaN  94.0 NaN\n",
      "     c1    c2\n",
      "1  23.0   NaN\n",
      "2  31.0   NaN\n",
      "3  54.0  57.0\n",
      "9   NaN  92.0\n",
      "5   NaN  94.0\n"
     ]
    }
   ],
   "source": [
    "dict1 = { 'c1':{1:23,2:31,3:54},\n",
    "       'c2':{3:57,9:92,5:94},\n",
    "       'c3':{} }\n",
    "a = pd.DataFrame(dict1)\n",
    "\n",
    "# axis{1：列统计，0：行统计}\n",
    "\n",
    "# print(a.isnull().any(axis=0))\n",
    "print(a[a.isnull().any(axis=1)])\n",
    "# 删除缺失值\n",
    "print(a.dropna(how='all',axis=1))"
   ]
  },
  {
   "cell_type": "code",
   "execution_count": 74,
   "metadata": {},
   "outputs": [
    {
     "name": "stdout",
     "output_type": "stream",
     "text": [
      "0      7/16/2020\n",
      "1      7/16/2020\n",
      "2      7/15/2020\n",
      "3      7/15/2020\n",
      "4      7/15/2020\n",
      "         ...    \n",
      "916    1/14/2020\n",
      "917    1/13/2020\n",
      "918    1/13/2020\n",
      "919    1/13/2020\n",
      "920    1/11/2020\n",
      "Name: 订单时间, Length: 921, dtype: object\n"
     ]
    }
   ],
   "source": [
    "df = pd.read_csv('D:\\Code\\VSCode_Python\\data\\心心享洗-自助洗车订单 .csv')\n",
    "# 相关性\n",
    "df.corr()\n",
    "# df.select_dtypes(include=np.number)\n",
    "#str.extract正则表达式\n",
    "df['订单时间'] = df['订单时间'].str.extract('(\\d+\\/\\d+\\/\\d{4})')\n",
    "print(df['订单时间'])"
   ]
  },
  {
   "cell_type": "code",
   "execution_count": 75,
   "metadata": {},
   "outputs": [
    {
     "name": "stdout",
     "output_type": "stream",
     "text": [
      "                      订单ID   用户手机号(假号码)                 设备ID  订单金额  实付金额  \\\n",
      "0     1283564608904503296'  18981942767  157829830668829372'  9.65  9.65   \n",
      "1     1283562046956511232'  18723348424  157829830668829372'  2.49  2.49   \n",
      "2     1283369878748930048'  18723348424  157829841525951628'  0.00  0.00   \n",
      "3     1283369044220846080'  18723348424  157829841525951628'  0.00  0.00   \n",
      "4     1283366330577461248'  13972829251  157829818607994096'  0.00  0.00   \n",
      "..                     ...          ...                  ...   ...   ...   \n",
      "916  15789908403790v4x2xp'  18872898390  157829841525951628'  6.00  6.00   \n",
      "917  15789001994763rye9ng'  18872898390  157829810475321301'  1.00  1.00   \n",
      "918  157889949935621u4h9w'  18872898390  157829810475321301'  0.00  0.00   \n",
      "919  15788986641561x72fcr'  18872898390  157829810475321301'  0.00  0.00   \n",
      "920  15787349138440x35gce'  15631584033  157829810475321301'  0.28  0.28   \n",
      "\n",
      "     支付渠道  订单状态       订单时间  \n",
      "0    余额支付  订单成功  7/16/2020  \n",
      "1    余额支付  订单成功  7/16/2020  \n",
      "2    余额支付  订单成功  7/15/2020  \n",
      "3    余额支付  订单成功  7/15/2020  \n",
      "4    余额支付  订单成功  7/15/2020  \n",
      "..    ...   ...        ...  \n",
      "916  余额支付  订单成功  1/14/2020  \n",
      "917  余额支付  订单成功  1/13/2020  \n",
      "918  余额支付  订单成功  1/13/2020  \n",
      "919  余额支付  订单成功  1/13/2020  \n",
      "920  余额支付  订单成功  1/11/2020  \n",
      "\n",
      "[921 rows x 8 columns]\n"
     ]
    }
   ],
   "source": [
    "df['订单时间'] = df['订单时间'].apply(lambda x:x[0:10])\n",
    "print(df)"
   ]
  },
  {
   "cell_type": "code",
   "execution_count": 76,
   "metadata": {},
   "outputs": [
    {
     "name": "stdout",
     "output_type": "stream",
     "text": [
      "0      7/16/2020\n",
      "1      7/16/2020\n",
      "2      7/15/2020\n",
      "3      7/15/2020\n",
      "4      7/15/2020\n",
      "         ...    \n",
      "916    1/14/2020\n",
      "917    1/13/2020\n",
      "918    1/13/2020\n",
      "919    1/13/2020\n",
      "920    1/11/2020\n",
      "Name: 订单时间, Length: 921, dtype: object\n"
     ]
    }
   ],
   "source": [
    "# x[0:x.index('/')] ,从下标0到第一个'/'为止。x[x.rindex('/')+1:x.rindex('/')+5]，从逆向第一个'/'+1到'/'的+5下标\n",
    "\n",
    "\n",
    "# df['订单时间'] = df['订单时间'].apply(lambda x : x[0:x.index('/')]+'/'+x[x.rindex('/')+1:x.rindex('/')+5])\n",
    "# df['订单时间'].groupby(df['订单时间']).count\n",
    "print(df['订单时间'])"
   ]
  },
  {
   "cell_type": "code",
   "execution_count": 79,
   "metadata": {},
   "outputs": [
    {
     "name": "stdout",
     "output_type": "stream",
     "text": [
      "订单时间\n",
      "2/2020     21\n",
      "7/2020     51\n",
      "3/2020     61\n",
      "1/2020     76\n",
      "6/2020    205\n",
      "5/2020    231\n",
      "4/2020    276\n",
      "Name: 订单ID, dtype: int64\n"
     ]
    }
   ],
   "source": [
    "tmp = df['订单时间'].str.extract('(\\d+\\/).*(\\d{4})')\n",
    "df['订单时间'] = tmp[0]+tmp[1]\n",
    "groupDf = df.groupby(['订单时间']).count().sort_values(by=['订单ID'],ascending=[True])\n",
    "# print(df['订单时间'])\n",
    "print(groupDf['订单ID'])"
   ]
  },
  {
   "cell_type": "code",
   "execution_count": null,
   "metadata": {},
   "outputs": [],
   "source": [
    "# one-hot-unicode 独热编码\n",
    "df = pd.read_csv('D:\\Code\\VSCode_Python\\data\\心心享洗-自助洗车订单 .csv')\n",
    "tmp = df[['设备ID','订单金额']]\n",
    "\n",
    "print(pd.get_dummies(df,columns=['设备ID']))\n",
    "\n",
    "# print(tmp['设备ID'].unique())"
   ]
  }
 ],
 "metadata": {
  "interpreter": {
   "hash": "1aff7c1be2036bab4f680725047157614d2bfc1675ea6caa4efedf71aff27d1d"
  },
  "kernelspec": {
   "display_name": "Python 3.8.5 64-bit ('base': conda)",
   "name": "python3"
  },
  "language_info": {
   "codemirror_mode": {
    "name": "ipython",
    "version": 3
   },
   "file_extension": ".py",
   "mimetype": "text/x-python",
   "name": "python",
   "nbconvert_exporter": "python",
   "pygments_lexer": "ipython3",
   "version": "3.8.5"
  },
  "orig_nbformat": 4
 },
 "nbformat": 4,
 "nbformat_minor": 2
}
